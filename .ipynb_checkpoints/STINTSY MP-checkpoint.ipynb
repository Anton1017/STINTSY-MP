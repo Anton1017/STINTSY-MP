{
 "cells": [
  {
   "cell_type": "code",
   "execution_count": null,
   "id": "2a14af1a-8b15-4925-90cb-0f6ed74e7c64",
   "metadata": {},
   "outputs": [],
   "source": []
  }
 ],
 "metadata": {
  "kernelspec": {
   "display_name": "Python 3 (ipykernel)",
   "language": "python",
   "name": "python3"
  },
  "language_info": {
   "name": ""
  }
 },
 "nbformat": 4,
 "nbformat_minor": 5
}
