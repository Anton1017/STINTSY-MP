{
 "cells": [
  {
   "cell_type": "markdown",
   "id": "4d7fc418-3a2d-45b5-9add-f181cd2efa7e",
   "metadata": {},
   "source": [
    "Group: I-Need-More-Boolets"
   ]
  },
  {
   "cell_type": "markdown",
   "id": "2a793946-036b-4b4d-b554-393a9900b269",
   "metadata": {},
   "source": [
    "Members: <br>\n",
    "Go, Ryan Jefferson <br>\n",
    "Ejercito, Joshua Carl <br>\n",
    "Moraña, Anton Louis <br>\n",
    "Nieva, Samuel "
   ]
  },
  {
   "cell_type": "markdown",
   "id": "6ed8ac24-7138-45ea-923f-f940f71c8027",
   "metadata": {},
   "source": [
    "Section: S11"
   ]
  },
  {
   "cell_type": "markdown",
   "id": "f8599513-976f-4f17-96d7-bf21b4c8a75a",
   "metadata": {},
   "source": [
    "# Introduction to the problem/task and dataset"
   ]
  },
  {
   "cell_type": "markdown",
   "id": "b39f4459-40bb-41a5-a479-a89bf003dae9",
   "metadata": {},
   "source": [
    "This major course output tasked our group to select a real-word dataset from the selection given. This group has selected the stars dataset, which is a dataset containing spectral characteristics derived from pictures taken by the SDSS (Sloan Digital Sky Survey). This dataset's main use is spectral classification, i.e., classifying whether a celestial body is a star, a quasar or an entire galaxy.\n",
    "\n",
    "Using the dataset, the group is to perform the following:\n",
    "- Describe the dataset\n",
    "- Perform Data Pre-processing and Cleaning\n",
    "- Perform Exploratory Data Analysis\n",
    "- Select 3 Machine Learning Models\n",
    "- Perform model training\n",
    "- Perform hyperparameter tuning\n",
    "- Extract insights from the data"
   ]
  },
  {
   "cell_type": "markdown",
   "id": "9a4d3d97-7961-43c6-8e17-8f37c290fc2b",
   "metadata": {},
   "source": [
    "# Description of the dataset"
   ]
  },
  {
   "cell_type": "markdown",
   "id": "4aacce68-3066-4d02-b0e6-3e19764ba70b",
   "metadata": {},
   "source": [
    "As stated earlier, the Stars datasets contains spectral characteristics from celestial bodies that can be used to classify it as either a quasar, star, or galaxy. This dataset is made up of 100,000 obersavations of space taken by the SDSS (Sloan Digital Sky Survey) with each observations having 18 features. The SDSS takes these observations through the use of a 2.5m wide located at Apache Point Observatory in New Mexico. The telescope is described in detail in a paper by Gunn et al. (2006), and it is through this powerful telescope that a robust astronomical survey is created, from which datasets such as this are derived.\n",
    "\n",
    "The following are the description of their features:\n",
    "1. obj_ID =  the unique value that identifies the object in the image catalog used by th CAS (Chinese Academy of Sciences).\n",
    "2. alpha = it contains the right ascension angle, it is measured from the start of a point which is called vernal equinox and go eastward. It is expressed in hours, minutes, and seconds. Vernal equinox is when the sun is exactly above the equator and day and night are of equal day. It is similar to the longitude in space.\n",
    "3. delta = it contains the declination angle, which shows the angle between the celestial equator and a point on the celestial sphere. It is like the latitude in space which results can either be positive or negative. Positive means that the object is located north while negative means it is located south.\n",
    "4. u – Ultraviolet filter in the photometric system.\n",
    "5. g – Green filter in the photometric system.\n",
    "6. r – Red filter in the photometric system.\n",
    "7. i – Near Infrared filter in the photometric system.\n",
    "8. z – Infrared filter in the photometric system.\n",
    "9. run_ID – Run Number used to identify the specific scan.\n",
    "10. rereun_ID – Rerun Number to specify how the image was processed.\n",
    "11. cam_col – Camera column to identify the scanline within the run.\n",
    "12. field_ID – Field number to identify each field.\n",
    "13. spec_obj_ID – Unique ID used for optical spectroscopic objects (this means that 2 different observations with the same spec_obj_ID must share the output class).\n",
    "14. class – object class (galaxy, star or quasar object). This is the label the group will be tasking the models to predict.\n",
    "15. redshift – redshift value based on the increase in wavelength.\n",
    "16. plate – plate ID, identifies each plate in SDSS (Sloan Digital Sky Survey).\n",
    "17. MJD – Modified Julian Date, used to indicate when a given piece of SDSS (Sloan Digital Sky Survey) data was taken.\n",
    "18. fiber_ID – identifies the fiber that pointed the light at the focal plane in each observation.\n",
    "\n",
    "The first few rows of the dataset look like this:"
   ]
  },
  {
   "cell_type": "code",
   "execution_count": 1,
   "id": "ee4601ef-f0a8-4d4a-aaac-84e8b3ef7d95",
   "metadata": {
    "tags": []
   },
   "outputs": [
    {
     "name": "stdout",
     "output_type": "stream",
     "text": [
      "stars dataset shape:  (100000, 18)\n"
     ]
    },
    {
     "data": {
      "text/html": [
       "<div>\n",
       "<style scoped>\n",
       "    .dataframe tbody tr th:only-of-type {\n",
       "        vertical-align: middle;\n",
       "    }\n",
       "\n",
       "    .dataframe tbody tr th {\n",
       "        vertical-align: top;\n",
       "    }\n",
       "\n",
       "    .dataframe thead th {\n",
       "        text-align: right;\n",
       "    }\n",
       "</style>\n",
       "<table border=\"1\" class=\"dataframe\">\n",
       "  <thead>\n",
       "    <tr style=\"text-align: right;\">\n",
       "      <th></th>\n",
       "      <th>obj_ID</th>\n",
       "      <th>alpha</th>\n",
       "      <th>delta</th>\n",
       "      <th>u</th>\n",
       "      <th>g</th>\n",
       "      <th>r</th>\n",
       "      <th>i</th>\n",
       "      <th>z</th>\n",
       "      <th>run_ID</th>\n",
       "      <th>rerun_ID</th>\n",
       "      <th>cam_col</th>\n",
       "      <th>field_ID</th>\n",
       "      <th>spec_obj_ID</th>\n",
       "      <th>class</th>\n",
       "      <th>redshift</th>\n",
       "      <th>plate</th>\n",
       "      <th>MJD</th>\n",
       "      <th>fiber_ID</th>\n",
       "    </tr>\n",
       "  </thead>\n",
       "  <tbody>\n",
       "    <tr>\n",
       "      <th>0</th>\n",
       "      <td>1.237661e+18</td>\n",
       "      <td>135.689107</td>\n",
       "      <td>32.494632</td>\n",
       "      <td>23.87882</td>\n",
       "      <td>22.27530</td>\n",
       "      <td>20.39501</td>\n",
       "      <td>19.16573</td>\n",
       "      <td>18.79371</td>\n",
       "      <td>3606</td>\n",
       "      <td>301</td>\n",
       "      <td>2</td>\n",
       "      <td>79</td>\n",
       "      <td>6.543777e+18</td>\n",
       "      <td>GALAXY</td>\n",
       "      <td>0.634794</td>\n",
       "      <td>5812</td>\n",
       "      <td>56354</td>\n",
       "      <td>171</td>\n",
       "    </tr>\n",
       "    <tr>\n",
       "      <th>1</th>\n",
       "      <td>1.237665e+18</td>\n",
       "      <td>144.826101</td>\n",
       "      <td>31.274185</td>\n",
       "      <td>24.77759</td>\n",
       "      <td>22.83188</td>\n",
       "      <td>22.58444</td>\n",
       "      <td>21.16812</td>\n",
       "      <td>21.61427</td>\n",
       "      <td>4518</td>\n",
       "      <td>301</td>\n",
       "      <td>5</td>\n",
       "      <td>119</td>\n",
       "      <td>1.176014e+19</td>\n",
       "      <td>GALAXY</td>\n",
       "      <td>0.779136</td>\n",
       "      <td>10445</td>\n",
       "      <td>58158</td>\n",
       "      <td>427</td>\n",
       "    </tr>\n",
       "    <tr>\n",
       "      <th>2</th>\n",
       "      <td>1.237661e+18</td>\n",
       "      <td>142.188790</td>\n",
       "      <td>35.582444</td>\n",
       "      <td>25.26307</td>\n",
       "      <td>22.66389</td>\n",
       "      <td>20.60976</td>\n",
       "      <td>19.34857</td>\n",
       "      <td>18.94827</td>\n",
       "      <td>3606</td>\n",
       "      <td>301</td>\n",
       "      <td>2</td>\n",
       "      <td>120</td>\n",
       "      <td>5.152200e+18</td>\n",
       "      <td>GALAXY</td>\n",
       "      <td>0.644195</td>\n",
       "      <td>4576</td>\n",
       "      <td>55592</td>\n",
       "      <td>299</td>\n",
       "    </tr>\n",
       "    <tr>\n",
       "      <th>3</th>\n",
       "      <td>1.237663e+18</td>\n",
       "      <td>338.741038</td>\n",
       "      <td>-0.402828</td>\n",
       "      <td>22.13682</td>\n",
       "      <td>23.77656</td>\n",
       "      <td>21.61162</td>\n",
       "      <td>20.50454</td>\n",
       "      <td>19.25010</td>\n",
       "      <td>4192</td>\n",
       "      <td>301</td>\n",
       "      <td>3</td>\n",
       "      <td>214</td>\n",
       "      <td>1.030107e+19</td>\n",
       "      <td>GALAXY</td>\n",
       "      <td>0.932346</td>\n",
       "      <td>9149</td>\n",
       "      <td>58039</td>\n",
       "      <td>775</td>\n",
       "    </tr>\n",
       "    <tr>\n",
       "      <th>4</th>\n",
       "      <td>1.237680e+18</td>\n",
       "      <td>345.282593</td>\n",
       "      <td>21.183866</td>\n",
       "      <td>19.43718</td>\n",
       "      <td>17.58028</td>\n",
       "      <td>16.49747</td>\n",
       "      <td>15.97711</td>\n",
       "      <td>15.54461</td>\n",
       "      <td>8102</td>\n",
       "      <td>301</td>\n",
       "      <td>3</td>\n",
       "      <td>137</td>\n",
       "      <td>6.891865e+18</td>\n",
       "      <td>GALAXY</td>\n",
       "      <td>0.116123</td>\n",
       "      <td>6121</td>\n",
       "      <td>56187</td>\n",
       "      <td>842</td>\n",
       "    </tr>\n",
       "  </tbody>\n",
       "</table>\n",
       "</div>"
      ],
      "text/plain": [
       "         obj_ID       alpha      delta         u         g         r  \\\n",
       "0  1.237661e+18  135.689107  32.494632  23.87882  22.27530  20.39501   \n",
       "1  1.237665e+18  144.826101  31.274185  24.77759  22.83188  22.58444   \n",
       "2  1.237661e+18  142.188790  35.582444  25.26307  22.66389  20.60976   \n",
       "3  1.237663e+18  338.741038  -0.402828  22.13682  23.77656  21.61162   \n",
       "4  1.237680e+18  345.282593  21.183866  19.43718  17.58028  16.49747   \n",
       "\n",
       "          i         z  run_ID  rerun_ID  cam_col  field_ID   spec_obj_ID  \\\n",
       "0  19.16573  18.79371    3606       301        2        79  6.543777e+18   \n",
       "1  21.16812  21.61427    4518       301        5       119  1.176014e+19   \n",
       "2  19.34857  18.94827    3606       301        2       120  5.152200e+18   \n",
       "3  20.50454  19.25010    4192       301        3       214  1.030107e+19   \n",
       "4  15.97711  15.54461    8102       301        3       137  6.891865e+18   \n",
       "\n",
       "    class  redshift  plate    MJD  fiber_ID  \n",
       "0  GALAXY  0.634794   5812  56354       171  \n",
       "1  GALAXY  0.779136  10445  58158       427  \n",
       "2  GALAXY  0.644195   4576  55592       299  \n",
       "3  GALAXY  0.932346   9149  58039       775  \n",
       "4  GALAXY  0.116123   6121  56187       842  "
      ]
     },
     "execution_count": 1,
     "metadata": {},
     "output_type": "execute_result"
    }
   ],
   "source": [
    "import pandas as pd\n",
    "import numpy as np\n",
    "from scipy import stats\n",
    "from sklearn.preprocessing import RobustScaler\n",
    "import matplotlib.pyplot as plt\n",
    "\n",
    "seed_num = 12\n",
    "\n",
    "np.random.seed(seed_num)\n",
    "\n",
    "stars = pd.read_csv('stars.csv')\n",
    "print(\"stars dataset shape: \", stars.shape)\n",
    "stars.head()"
   ]
  },
  {
   "cell_type": "markdown",
   "id": "7fe9c0c8-7fe7-4a20-b14d-2b5c8351d5e9",
   "metadata": {},
   "source": [
    "The following shows the number of data points for each class."
   ]
  },
  {
   "cell_type": "code",
   "execution_count": 2,
   "id": "35d324fc-f260-47f7-8460-40571b1073a9",
   "metadata": {
    "tags": []
   },
   "outputs": [
    {
     "data": {
      "text/plain": [
       "class\n",
       "GALAXY    59445\n",
       "STAR      21594\n",
       "QSO       18961\n",
       "Name: count, dtype: int64"
      ]
     },
     "execution_count": 2,
     "metadata": {},
     "output_type": "execute_result"
    }
   ],
   "source": [
    "stars['class'].value_counts()"
   ]
  },
  {
   "cell_type": "markdown",
   "id": "42462967-688b-4032-901d-2f166a6a8ba7",
   "metadata": {},
   "source": [
    "The following shows the datatypes of each feature within the dataset:"
   ]
  },
  {
   "cell_type": "code",
   "execution_count": 3,
   "id": "1045fce1-9695-4cc7-8e53-1ead1e8ad4f3",
   "metadata": {
    "tags": []
   },
   "outputs": [
    {
     "name": "stdout",
     "output_type": "stream",
     "text": [
      "<class 'pandas.core.frame.DataFrame'>\n",
      "RangeIndex: 100000 entries, 0 to 99999\n",
      "Data columns (total 18 columns):\n",
      " #   Column       Non-Null Count   Dtype  \n",
      "---  ------       --------------   -----  \n",
      " 0   obj_ID       100000 non-null  float64\n",
      " 1   alpha        100000 non-null  float64\n",
      " 2   delta        100000 non-null  float64\n",
      " 3   u            100000 non-null  float64\n",
      " 4   g            100000 non-null  float64\n",
      " 5   r            100000 non-null  float64\n",
      " 6   i            100000 non-null  float64\n",
      " 7   z            100000 non-null  float64\n",
      " 8   run_ID       100000 non-null  int64  \n",
      " 9   rerun_ID     100000 non-null  int64  \n",
      " 10  cam_col      100000 non-null  int64  \n",
      " 11  field_ID     100000 non-null  int64  \n",
      " 12  spec_obj_ID  100000 non-null  float64\n",
      " 13  class        100000 non-null  object \n",
      " 14  redshift     100000 non-null  float64\n",
      " 15  plate        100000 non-null  int64  \n",
      " 16  MJD          100000 non-null  int64  \n",
      " 17  fiber_ID     100000 non-null  int64  \n",
      "dtypes: float64(10), int64(7), object(1)\n",
      "memory usage: 13.7+ MB\n"
     ]
    }
   ],
   "source": [
    "stars.info()"
   ]
  },
  {
   "cell_type": "markdown",
   "id": "9cd6bd83-55ea-4845-aca7-bcdcc4aaf78c",
   "metadata": {},
   "source": [
    "# List of requirements\n",
    "\n",
    "The group will be using Python's scikit learn library for their classification models (I think), scipy, scikit, numpy and pandas array for processing data, and matplotlib for visualizing data (add stuff if need pa)"
   ]
  },
  {
   "cell_type": "markdown",
   "id": "e4bcd160-54cd-4934-afb6-7a77af3fea69",
   "metadata": {
    "tags": []
   },
   "source": [
    "# Data Cleaning and Preprocessing"
   ]
  },
  {
   "cell_type": "markdown",
   "id": "3c63a680-6ab0-4576-8a66-c70b579ba1b1",
   "metadata": {},
   "source": [
    "To begin, we assign a set of columns that will be the focus for data cleaning and preprocessing, namely the `u`, `g`, `r`, `i`, `z`, and `redshift` columns."
   ]
  },
  {
   "cell_type": "code",
   "execution_count": 4,
   "id": "3964d300-a2bc-40a8-ac4b-b6f42af5a6cd",
   "metadata": {
    "tags": []
   },
   "outputs": [],
   "source": [
    "columns_to_clean = ['alpha', 'delta', 'u', 'g', 'r', 'i', 'z', 'redshift']"
   ]
  },
  {
   "cell_type": "markdown",
   "id": "6f6f17c7-1eee-4c7e-9664-8e744d815d97",
   "metadata": {},
   "source": [
    "## Replacement of `obj_ID` column"
   ]
  },
  {
   "cell_type": "markdown",
   "id": "545a28ee-f353-4c4a-95b2-2012c4401187",
   "metadata": {},
   "source": [
    "The `obj_ID` column assigns a unique ID for each observation in the dataset, although it is represented in a floating point format. For the purposes of the study, this will be replaced with a similarly-named column that utilizes integer IDs instead in order to simplify the access to each element."
   ]
  },
  {
   "cell_type": "code",
   "execution_count": 5,
   "id": "9f4bfc16-1442-4355-bb54-00fe02a1afdc",
   "metadata": {
    "tags": []
   },
   "outputs": [
    {
     "data": {
      "text/html": [
       "<div>\n",
       "<style scoped>\n",
       "    .dataframe tbody tr th:only-of-type {\n",
       "        vertical-align: middle;\n",
       "    }\n",
       "\n",
       "    .dataframe tbody tr th {\n",
       "        vertical-align: top;\n",
       "    }\n",
       "\n",
       "    .dataframe thead th {\n",
       "        text-align: right;\n",
       "    }\n",
       "</style>\n",
       "<table border=\"1\" class=\"dataframe\">\n",
       "  <thead>\n",
       "    <tr style=\"text-align: right;\">\n",
       "      <th></th>\n",
       "      <th>obj_ID</th>\n",
       "      <th>alpha</th>\n",
       "      <th>delta</th>\n",
       "      <th>u</th>\n",
       "      <th>g</th>\n",
       "      <th>r</th>\n",
       "      <th>i</th>\n",
       "      <th>z</th>\n",
       "      <th>run_ID</th>\n",
       "      <th>rerun_ID</th>\n",
       "      <th>cam_col</th>\n",
       "      <th>field_ID</th>\n",
       "      <th>spec_obj_ID</th>\n",
       "      <th>class</th>\n",
       "      <th>redshift</th>\n",
       "      <th>plate</th>\n",
       "      <th>MJD</th>\n",
       "      <th>fiber_ID</th>\n",
       "    </tr>\n",
       "  </thead>\n",
       "  <tbody>\n",
       "    <tr>\n",
       "      <th>0</th>\n",
       "      <td>0</td>\n",
       "      <td>135.689107</td>\n",
       "      <td>32.494632</td>\n",
       "      <td>23.87882</td>\n",
       "      <td>22.27530</td>\n",
       "      <td>20.39501</td>\n",
       "      <td>19.16573</td>\n",
       "      <td>18.79371</td>\n",
       "      <td>3606</td>\n",
       "      <td>301</td>\n",
       "      <td>2</td>\n",
       "      <td>79</td>\n",
       "      <td>6.543777e+18</td>\n",
       "      <td>GALAXY</td>\n",
       "      <td>0.634794</td>\n",
       "      <td>5812</td>\n",
       "      <td>56354</td>\n",
       "      <td>171</td>\n",
       "    </tr>\n",
       "    <tr>\n",
       "      <th>1</th>\n",
       "      <td>1</td>\n",
       "      <td>144.826101</td>\n",
       "      <td>31.274185</td>\n",
       "      <td>24.77759</td>\n",
       "      <td>22.83188</td>\n",
       "      <td>22.58444</td>\n",
       "      <td>21.16812</td>\n",
       "      <td>21.61427</td>\n",
       "      <td>4518</td>\n",
       "      <td>301</td>\n",
       "      <td>5</td>\n",
       "      <td>119</td>\n",
       "      <td>1.176014e+19</td>\n",
       "      <td>GALAXY</td>\n",
       "      <td>0.779136</td>\n",
       "      <td>10445</td>\n",
       "      <td>58158</td>\n",
       "      <td>427</td>\n",
       "    </tr>\n",
       "    <tr>\n",
       "      <th>2</th>\n",
       "      <td>2</td>\n",
       "      <td>142.188790</td>\n",
       "      <td>35.582444</td>\n",
       "      <td>25.26307</td>\n",
       "      <td>22.66389</td>\n",
       "      <td>20.60976</td>\n",
       "      <td>19.34857</td>\n",
       "      <td>18.94827</td>\n",
       "      <td>3606</td>\n",
       "      <td>301</td>\n",
       "      <td>2</td>\n",
       "      <td>120</td>\n",
       "      <td>5.152200e+18</td>\n",
       "      <td>GALAXY</td>\n",
       "      <td>0.644195</td>\n",
       "      <td>4576</td>\n",
       "      <td>55592</td>\n",
       "      <td>299</td>\n",
       "    </tr>\n",
       "    <tr>\n",
       "      <th>3</th>\n",
       "      <td>3</td>\n",
       "      <td>338.741038</td>\n",
       "      <td>-0.402828</td>\n",
       "      <td>22.13682</td>\n",
       "      <td>23.77656</td>\n",
       "      <td>21.61162</td>\n",
       "      <td>20.50454</td>\n",
       "      <td>19.25010</td>\n",
       "      <td>4192</td>\n",
       "      <td>301</td>\n",
       "      <td>3</td>\n",
       "      <td>214</td>\n",
       "      <td>1.030107e+19</td>\n",
       "      <td>GALAXY</td>\n",
       "      <td>0.932346</td>\n",
       "      <td>9149</td>\n",
       "      <td>58039</td>\n",
       "      <td>775</td>\n",
       "    </tr>\n",
       "    <tr>\n",
       "      <th>4</th>\n",
       "      <td>4</td>\n",
       "      <td>345.282593</td>\n",
       "      <td>21.183866</td>\n",
       "      <td>19.43718</td>\n",
       "      <td>17.58028</td>\n",
       "      <td>16.49747</td>\n",
       "      <td>15.97711</td>\n",
       "      <td>15.54461</td>\n",
       "      <td>8102</td>\n",
       "      <td>301</td>\n",
       "      <td>3</td>\n",
       "      <td>137</td>\n",
       "      <td>6.891865e+18</td>\n",
       "      <td>GALAXY</td>\n",
       "      <td>0.116123</td>\n",
       "      <td>6121</td>\n",
       "      <td>56187</td>\n",
       "      <td>842</td>\n",
       "    </tr>\n",
       "    <tr>\n",
       "      <th>...</th>\n",
       "      <td>...</td>\n",
       "      <td>...</td>\n",
       "      <td>...</td>\n",
       "      <td>...</td>\n",
       "      <td>...</td>\n",
       "      <td>...</td>\n",
       "      <td>...</td>\n",
       "      <td>...</td>\n",
       "      <td>...</td>\n",
       "      <td>...</td>\n",
       "      <td>...</td>\n",
       "      <td>...</td>\n",
       "      <td>...</td>\n",
       "      <td>...</td>\n",
       "      <td>...</td>\n",
       "      <td>...</td>\n",
       "      <td>...</td>\n",
       "      <td>...</td>\n",
       "    </tr>\n",
       "    <tr>\n",
       "      <th>99995</th>\n",
       "      <td>99995</td>\n",
       "      <td>39.620709</td>\n",
       "      <td>-2.594074</td>\n",
       "      <td>22.16759</td>\n",
       "      <td>22.97586</td>\n",
       "      <td>21.90404</td>\n",
       "      <td>21.30548</td>\n",
       "      <td>20.73569</td>\n",
       "      <td>7778</td>\n",
       "      <td>301</td>\n",
       "      <td>2</td>\n",
       "      <td>581</td>\n",
       "      <td>1.055431e+19</td>\n",
       "      <td>GALAXY</td>\n",
       "      <td>0.000000</td>\n",
       "      <td>9374</td>\n",
       "      <td>57749</td>\n",
       "      <td>438</td>\n",
       "    </tr>\n",
       "    <tr>\n",
       "      <th>99996</th>\n",
       "      <td>99996</td>\n",
       "      <td>29.493819</td>\n",
       "      <td>19.798874</td>\n",
       "      <td>22.69118</td>\n",
       "      <td>22.38628</td>\n",
       "      <td>20.45003</td>\n",
       "      <td>19.75759</td>\n",
       "      <td>19.41526</td>\n",
       "      <td>7917</td>\n",
       "      <td>301</td>\n",
       "      <td>1</td>\n",
       "      <td>289</td>\n",
       "      <td>8.586351e+18</td>\n",
       "      <td>GALAXY</td>\n",
       "      <td>0.404895</td>\n",
       "      <td>7626</td>\n",
       "      <td>56934</td>\n",
       "      <td>866</td>\n",
       "    </tr>\n",
       "    <tr>\n",
       "      <th>99997</th>\n",
       "      <td>99997</td>\n",
       "      <td>224.587407</td>\n",
       "      <td>15.700707</td>\n",
       "      <td>21.16916</td>\n",
       "      <td>19.26997</td>\n",
       "      <td>18.20428</td>\n",
       "      <td>17.69034</td>\n",
       "      <td>17.35221</td>\n",
       "      <td>5314</td>\n",
       "      <td>301</td>\n",
       "      <td>4</td>\n",
       "      <td>308</td>\n",
       "      <td>3.112008e+18</td>\n",
       "      <td>GALAXY</td>\n",
       "      <td>0.143366</td>\n",
       "      <td>2764</td>\n",
       "      <td>54535</td>\n",
       "      <td>74</td>\n",
       "    </tr>\n",
       "    <tr>\n",
       "      <th>99998</th>\n",
       "      <td>99998</td>\n",
       "      <td>212.268621</td>\n",
       "      <td>46.660365</td>\n",
       "      <td>25.35039</td>\n",
       "      <td>21.63757</td>\n",
       "      <td>19.91386</td>\n",
       "      <td>19.07254</td>\n",
       "      <td>18.62482</td>\n",
       "      <td>3650</td>\n",
       "      <td>301</td>\n",
       "      <td>4</td>\n",
       "      <td>131</td>\n",
       "      <td>7.601080e+18</td>\n",
       "      <td>GALAXY</td>\n",
       "      <td>0.455040</td>\n",
       "      <td>6751</td>\n",
       "      <td>56368</td>\n",
       "      <td>470</td>\n",
       "    </tr>\n",
       "    <tr>\n",
       "      <th>99999</th>\n",
       "      <td>99999</td>\n",
       "      <td>196.896053</td>\n",
       "      <td>49.464643</td>\n",
       "      <td>22.62171</td>\n",
       "      <td>21.79745</td>\n",
       "      <td>20.60115</td>\n",
       "      <td>20.00959</td>\n",
       "      <td>19.28075</td>\n",
       "      <td>3650</td>\n",
       "      <td>301</td>\n",
       "      <td>4</td>\n",
       "      <td>60</td>\n",
       "      <td>8.343152e+18</td>\n",
       "      <td>GALAXY</td>\n",
       "      <td>0.542944</td>\n",
       "      <td>7410</td>\n",
       "      <td>57104</td>\n",
       "      <td>851</td>\n",
       "    </tr>\n",
       "  </tbody>\n",
       "</table>\n",
       "<p>100000 rows × 18 columns</p>\n",
       "</div>"
      ],
      "text/plain": [
       "       obj_ID       alpha      delta         u         g         r         i  \\\n",
       "0           0  135.689107  32.494632  23.87882  22.27530  20.39501  19.16573   \n",
       "1           1  144.826101  31.274185  24.77759  22.83188  22.58444  21.16812   \n",
       "2           2  142.188790  35.582444  25.26307  22.66389  20.60976  19.34857   \n",
       "3           3  338.741038  -0.402828  22.13682  23.77656  21.61162  20.50454   \n",
       "4           4  345.282593  21.183866  19.43718  17.58028  16.49747  15.97711   \n",
       "...       ...         ...        ...       ...       ...       ...       ...   \n",
       "99995   99995   39.620709  -2.594074  22.16759  22.97586  21.90404  21.30548   \n",
       "99996   99996   29.493819  19.798874  22.69118  22.38628  20.45003  19.75759   \n",
       "99997   99997  224.587407  15.700707  21.16916  19.26997  18.20428  17.69034   \n",
       "99998   99998  212.268621  46.660365  25.35039  21.63757  19.91386  19.07254   \n",
       "99999   99999  196.896053  49.464643  22.62171  21.79745  20.60115  20.00959   \n",
       "\n",
       "              z  run_ID  rerun_ID  cam_col  field_ID   spec_obj_ID   class  \\\n",
       "0      18.79371    3606       301        2        79  6.543777e+18  GALAXY   \n",
       "1      21.61427    4518       301        5       119  1.176014e+19  GALAXY   \n",
       "2      18.94827    3606       301        2       120  5.152200e+18  GALAXY   \n",
       "3      19.25010    4192       301        3       214  1.030107e+19  GALAXY   \n",
       "4      15.54461    8102       301        3       137  6.891865e+18  GALAXY   \n",
       "...         ...     ...       ...      ...       ...           ...     ...   \n",
       "99995  20.73569    7778       301        2       581  1.055431e+19  GALAXY   \n",
       "99996  19.41526    7917       301        1       289  8.586351e+18  GALAXY   \n",
       "99997  17.35221    5314       301        4       308  3.112008e+18  GALAXY   \n",
       "99998  18.62482    3650       301        4       131  7.601080e+18  GALAXY   \n",
       "99999  19.28075    3650       301        4        60  8.343152e+18  GALAXY   \n",
       "\n",
       "       redshift  plate    MJD  fiber_ID  \n",
       "0      0.634794   5812  56354       171  \n",
       "1      0.779136  10445  58158       427  \n",
       "2      0.644195   4576  55592       299  \n",
       "3      0.932346   9149  58039       775  \n",
       "4      0.116123   6121  56187       842  \n",
       "...         ...    ...    ...       ...  \n",
       "99995  0.000000   9374  57749       438  \n",
       "99996  0.404895   7626  56934       866  \n",
       "99997  0.143366   2764  54535        74  \n",
       "99998  0.455040   6751  56368       470  \n",
       "99999  0.542944   7410  57104       851  \n",
       "\n",
       "[100000 rows x 18 columns]"
      ]
     },
     "execution_count": 5,
     "metadata": {},
     "output_type": "execute_result"
    }
   ],
   "source": [
    "stars = stars.drop(['obj_ID'], axis=1)\n",
    "stars['obj_ID'] = np.arange(len(stars))\n",
    "stars.insert(0, 'obj_ID', stars.pop('obj_ID'))\n",
    "stars"
   ]
  },
  {
   "cell_type": "markdown",
   "id": "b6ba649a-ad32-496b-82f3-3867eecbb9e8",
   "metadata": {},
   "source": [
    "## Checking for empty observations"
   ]
  },
  {
   "cell_type": "markdown",
   "id": "11b6e9a3-3237-48b5-bc07-e624a44c6ce6",
   "metadata": {},
   "source": [
    "Checking was done for any entries with missing/null features by instantiating another stars dataset whose entries are filtered off of null features."
   ]
  },
  {
   "cell_type": "code",
   "execution_count": 6,
   "id": "4dacb600-1948-4e71-aeca-42b7bba51dd5",
   "metadata": {
    "tags": []
   },
   "outputs": [
    {
     "name": "stdout",
     "output_type": "stream",
     "text": [
      "stars dataset shape (no null):  (100000, 18)\n"
     ]
    }
   ],
   "source": [
    "nan_variables = stars[stars.isnull().any(axis=1)].index\n",
    "stars_nonull = stars.drop(labels=nan_variables).reset_index(drop=True)\n",
    "print(\"stars dataset shape (no null): \", stars_nonull.shape)"
   ]
  },
  {
   "cell_type": "markdown",
   "id": "43b7c843-0d10-476f-aa73-ca741a7c9249",
   "metadata": {},
   "source": [
    "As shown by the resulting filtered dataset and comparing its shape to the original dataset, it was shown that all entries have all their features accounted for."
   ]
  },
  {
   "cell_type": "markdown",
   "id": "2666107a-bea2-4c2d-9c94-75681dd1cfed",
   "metadata": {},
   "source": [
    "## Checking for duplicate entries"
   ]
  },
  {
   "cell_type": "markdown",
   "id": "d9188f66-83ed-455d-9aca-5be85832b4e9",
   "metadata": {},
   "source": [
    "Any duplicated entries was checked first by comparing all entries' columns to each other"
   ]
  },
  {
   "cell_type": "code",
   "execution_count": 7,
   "id": "0c650c61-d409-49af-94db-0278e6f6bbee",
   "metadata": {
    "tags": []
   },
   "outputs": [
    {
     "data": {
      "text/plain": [
       "False"
      ]
     },
     "execution_count": 7,
     "metadata": {},
     "output_type": "execute_result"
    }
   ],
   "source": [
    "stars.duplicated().any()"
   ]
  },
  {
   "cell_type": "markdown",
   "id": "05e1b8f8-6265-4f83-8be4-a0e65e1ef4ab",
   "metadata": {
    "tags": []
   },
   "source": [
    "As shown, there are no duplicated entries within the dataset."
   ]
  },
  {
   "cell_type": "markdown",
   "id": "3841516b-5097-473d-b411-7497cbdb0473",
   "metadata": {},
   "source": [
    "## Checking for outliers"
   ]
  },
  {
   "cell_type": "markdown",
   "id": "649de04e-c502-499c-bf0a-bfc5e0785f7e",
   "metadata": {},
   "source": [
    "The removal of outliers aims to craft a dataset whose subset can be used for training data that is generally representative of each classes. We will first check for the existence of outliers in this instance, and any extreme outliers will be removed from analysis."
   ]
  },
  {
   "cell_type": "code",
   "execution_count": 8,
   "id": "1efc01d9-9548-4e52-9845-20eccc7bf5db",
   "metadata": {
    "tags": []
   },
   "outputs": [
    {
     "data": {
      "text/plain": [
       "(97884, 18)"
      ]
     },
     "execution_count": 8,
     "metadata": {},
     "output_type": "execute_result"
    }
   ],
   "source": [
    "stars[(np.abs(stats.zscore(stars[columns_to_clean])) < 3).all(axis=1)].shape"
   ]
  },
  {
   "cell_type": "markdown",
   "id": "9e5e8967-a212-410c-9c29-dba710f1eec9",
   "metadata": {},
   "source": [
    "There are 2116 data points that are considered as outliers based from the z-score metric (>= 3 standard deviations from the mean). In order to know more about these outliers, the features are drawn in a boxplot, displaying their minimum and maximum values respectively."
   ]
  },
  {
   "cell_type": "code",
   "execution_count": 9,
   "id": "57c92b10-1b57-49a5-91e7-a63e2ddc0f23",
   "metadata": {
    "tags": []
   },
   "outputs": [
    {
     "data": {
      "image/png": "[encoded data removed]",
      "text/plain": [
       "<Figure size 400x400 with 1 Axes>"
      ]
     },
     "metadata": {},
     "output_type": "display_data"
    },
    {
     "name": "stdout",
     "output_type": "stream",
     "text": [
      "\" alpha \" minimum value:  0.0055278279239701\n",
      "\" alpha \" maximum value:  359.999809770956\n"
     ]
    },
    {
     "data": {
      "image/png": "[encoded data removed]",
      "text/plain": [
       "<Figure size 400x400 with 1 Axes>"
      ]
     },
     "metadata": {},
     "output_type": "display_data"
    },
    {
     "name": "stdout",
     "output_type": "stream",
     "text": [
      "\" delta \" minimum value:  -18.7853280771825\n",
      "\" delta \" maximum value:  83.00051858898\n"
     ]
    },
    {
     "data": {
      "image/png": "[encoded data removed]",
      "text/plain": [
       "<Figure size 400x400 with 1 Axes>"
      ]
     },
     "metadata": {},
     "output_type": "display_data"
    },
    {
     "name": "stdout",
     "output_type": "stream",
     "text": [
      "\" u \" minimum value:  -9999.0\n",
      "\" u \" maximum value:  32.78139\n"
     ]
    },
    {
     "data": {
      "image/png": "[encoded data removed]",
      "text/plain": [
       "<Figure size 400x400 with 1 Axes>"
      ]
     },
     "metadata": {},
     "output_type": "display_data"
    },
    {
     "name": "stdout",
     "output_type": "stream",
     "text": [
      "\" g \" minimum value:  -9999.0\n",
      "\" g \" maximum value:  31.60224\n"
     ]
    },
    {
     "data": {
      "image/png": "[encoded data removed]",
      "text/plain": [
       "<Figure size 400x400 with 1 Axes>"
      ]
     },
     "metadata": {},
     "output_type": "display_data"
    },
    {
     "name": "stdout",
     "output_type": "stream",
     "text": [
      "\" r \" minimum value:  9.82207\n",
      "\" r \" maximum value:  29.57186\n"
     ]
    },
    {
     "data": {
      "image/png": "[encoded data removed]",
      "text/plain": [
       "<Figure size 400x400 with 1 Axes>"
      ]
     },
     "metadata": {},
     "output_type": "display_data"
    },
    {
     "name": "stdout",
     "output_type": "stream",
     "text": [
      "\" i \" minimum value:  9.469903\n",
      "\" i \" maximum value:  32.14147\n"
     ]
    },
    {
     "data": {
      "image/png": "[encoded data removed]",
      "text/plain": [
       "<Figure size 400x400 with 1 Axes>"
      ]
     },
     "metadata": {},
     "output_type": "display_data"
    },
    {
     "name": "stdout",
     "output_type": "stream",
     "text": [
      "\" z \" minimum value:  -9999.0\n",
      "\" z \" maximum value:  29.38374\n"
     ]
    },
    {
     "data": {
      "image/png": "[encoded data removed]",
      "text/plain": [
       "<Figure size 400x400 with 1 Axes>"
      ]
     },
     "metadata": {},
     "output_type": "display_data"
    },
    {
     "name": "stdout",
     "output_type": "stream",
     "text": [
      "\" redshift \" minimum value:  -0.009970667\n",
      "\" redshift \" maximum value:  7.011245\n"
     ]
    }
   ],
   "source": [
    "for col in columns_to_clean:\n",
    "    stars.boxplot(col, figsize=(4, 4))\n",
    "    plt.tight_layout()\n",
    "    plt.show()\n",
    "    print(\"\\\"\",col,\"\\\" minimum value: \", stars[col].min())\n",
    "    print(\"\\\"\",col,\"\\\" maximum value: \", stars[col].max())"
   ]
  },
  {
   "cell_type": "markdown",
   "id": "46edc477-6428-4445-a529-eaa1a439b5d5",
   "metadata": {},
   "source": [
    "Some features have values equated to a whole value of -9999. This may indicate that these features were not recorded/not available for that observation, thus putting a default value for those features. To resolve this, we will remove the associated entries that has defaule values for these certain features."
   ]
  },
  {
   "cell_type": "code",
   "execution_count": 10,
   "id": "8e76fdb2-2c40-415f-ae8b-00159a44bdc4",
   "metadata": {
    "tags": []
   },
   "outputs": [
    {
     "data": {
      "text/plain": [
       "(99999, 18)"
      ]
     },
     "execution_count": 10,
     "metadata": {},
     "output_type": "execute_result"
    }
   ],
   "source": [
    "default_value = stars['u'].min()\n",
    "stars = stars[stars['u'] != default_value]\n",
    "stars = stars[stars['g'] != default_value]\n",
    "stars = stars[stars['z'] != default_value]\n",
    "stars.shape"
   ]
  },
  {
   "cell_type": "markdown",
   "id": "3a831b3a-a2aa-4b98-8e2f-5768a96266b9",
   "metadata": {},
   "source": [
    "Based from the filtered dataset, there is only one entry that contains such default values. Any other outliers will be resolved by applying the robust scaling method for normalization."
   ]
  },
  {
   "cell_type": "code",
   "execution_count": 11,
   "id": "1d63c578-8555-4bc1-9d9d-97698e25ec8c",
   "metadata": {},
   "outputs": [
    {
     "data": {
      "image/png": "[encoded data removed]",
      "text/plain": [
       "<Figure size 400x400 with 1 Axes>"
      ]
     },
     "metadata": {},
     "output_type": "display_data"
    },
    {
     "name": "stdout",
     "output_type": "stream",
     "text": [
      "\" alpha \" minimum value:  0.0055278279239701\n",
      "\" alpha \" maximum value:  359.999809770956\n"
     ]
    },
    {
     "data": {
      "image/png": "[encoded data removed]",
      "text/plain": [
       "<Figure size 400x400 with 1 Axes>"
      ]
     },
     "metadata": {},
     "output_type": "display_data"
    },
    {
     "name": "stdout",
     "output_type": "stream",
     "text": [
      "\" delta \" minimum value:  -18.7853280771825\n",
      "\" delta \" maximum value:  83.00051858898\n"
     ]
    },
    {
     "data": {
      "image/png": "[encoded data removed]",
      "text/plain": [
       "<Figure size 400x400 with 1 Axes>"
      ]
     },
     "metadata": {},
     "output_type": "display_data"
    },
    {
     "name": "stdout",
     "output_type": "stream",
     "text": [
      "\" u \" minimum value:  10.99623\n",
      "\" u \" maximum value:  32.78139\n"
     ]
    },
    {
     "data": {
      "image/png": "[encoded data removed]",
      "text/plain": [
       "<Figure size 400x400 with 1 Axes>"
      ]
     },
     "metadata": {},
     "output_type": "display_data"
    },
    {
     "name": "stdout",
     "output_type": "stream",
     "text": [
      "\" g \" minimum value:  10.4982\n",
      "\" g \" maximum value:  31.60224\n"
     ]
    },
    {
     "data": {
      "image/png": "[encoded data removed]",
      "text/plain": [
       "<Figure size 400x400 with 1 Axes>"
      ]
     },
     "metadata": {},
     "output_type": "display_data"
    },
    {
     "name": "stdout",
     "output_type": "stream",
     "text": [
      "\" r \" minimum value:  9.82207\n",
      "\" r \" maximum value:  29.57186\n"
     ]
    },
    {
     "data": {
      "image/png": "[encoded data removed]",
      "text/plain": [
       "<Figure size 400x400 with 1 Axes>"
      ]
     },
     "metadata": {},
     "output_type": "display_data"
    },
    {
     "name": "stdout",
     "output_type": "stream",
     "text": [
      "\" i \" minimum value:  9.469903\n",
      "\" i \" maximum value:  32.14147\n"
     ]
    },
    {
     "data": {
      "image/png": "[encoded data removed]",
      "text/plain": [
       "<Figure size 400x400 with 1 Axes>"
      ]
     },
     "metadata": {},
     "output_type": "display_data"
    },
    {
     "name": "stdout",
     "output_type": "stream",
     "text": [
      "\" z \" minimum value:  9.612333\n",
      "\" z \" maximum value:  29.38374\n"
     ]
    },
    {
     "data": {
      "image/png": "[encoded data removed]",
      "text/plain": [
       "<Figure size 400x400 with 1 Axes>"
      ]
     },
     "metadata": {},
     "output_type": "display_data"
    },
    {
     "name": "stdout",
     "output_type": "stream",
     "text": [
      "\" redshift \" minimum value:  -0.009970667\n",
      "\" redshift \" maximum value:  7.011245\n"
     ]
    }
   ],
   "source": [
    "for col in columns_to_clean:\n",
    "    stars.boxplot(col, figsize=(4, 4))\n",
    "    plt.tight_layout()\n",
    "    plt.show()\n",
    "    print(\"\\\"\",col,\"\\\" minimum value: \", stars[col].min())\n",
    "    print(\"\\\"\",col,\"\\\" maximum value: \", stars[col].max())"
   ]
  },
  {
   "cell_type": "markdown",
   "id": "f6e69833-1761-49f5-b7b6-cb147d44fe79",
   "metadata": {},
   "source": [
    "The boxplots indicates that any extreme outliers that comes from the default values were successfully removed."
   ]
  },
  {
   "cell_type": "markdown",
   "id": "ff80bc99-e579-4e98-ba95-949cbe6336db",
   "metadata": {},
   "source": [
    "## Fixing the obj_ID after removal of outliers\n",
    "\n",
    "Since the outliers were removed, the row obj_ID may not reflect it's actual position in the dataset. To fix this, we simply reassign the obj_IDs incrementally."
   ]
  },
  {
   "cell_type": "code",
   "execution_count": 12,
   "id": "197f48f0-7dec-4a9b-a377-fbd1f20f8748",
   "metadata": {
    "tags": []
   },
   "outputs": [
    {
     "data": {
      "text/html": [
       "<div>\n",
       "<style scoped>\n",
       "    .dataframe tbody tr th:only-of-type {\n",
       "        vertical-align: middle;\n",
       "    }\n",
       "\n",
       "    .dataframe tbody tr th {\n",
       "        vertical-align: top;\n",
       "    }\n",
       "\n",
       "    .dataframe thead th {\n",
       "        text-align: right;\n",
       "    }\n",
       "</style>\n",
       "<table border=\"1\" class=\"dataframe\">\n",
       "  <thead>\n",
       "    <tr style=\"text-align: right;\">\n",
       "      <th></th>\n",
       "      <th>obj_ID</th>\n",
       "      <th>alpha</th>\n",
       "      <th>delta</th>\n",
       "      <th>u</th>\n",
       "      <th>g</th>\n",
       "      <th>r</th>\n",
       "      <th>i</th>\n",
       "      <th>z</th>\n",
       "      <th>run_ID</th>\n",
       "      <th>rerun_ID</th>\n",
       "      <th>cam_col</th>\n",
       "      <th>field_ID</th>\n",
       "      <th>spec_obj_ID</th>\n",
       "      <th>class</th>\n",
       "      <th>redshift</th>\n",
       "      <th>plate</th>\n",
       "      <th>MJD</th>\n",
       "      <th>fiber_ID</th>\n",
       "    </tr>\n",
       "  </thead>\n",
       "  <tbody>\n",
       "    <tr>\n",
       "      <th>0</th>\n",
       "      <td>0</td>\n",
       "      <td>135.689107</td>\n",
       "      <td>32.494632</td>\n",
       "      <td>23.87882</td>\n",
       "      <td>22.27530</td>\n",
       "      <td>20.39501</td>\n",
       "      <td>19.16573</td>\n",
       "      <td>18.79371</td>\n",
       "      <td>3606</td>\n",
       "      <td>301</td>\n",
       "      <td>2</td>\n",
       "      <td>79</td>\n",
       "      <td>6.543777e+18</td>\n",
       "      <td>GALAXY</td>\n",
       "      <td>0.634794</td>\n",
       "      <td>5812</td>\n",
       "      <td>56354</td>\n",
       "      <td>171</td>\n",
       "    </tr>\n",
       "    <tr>\n",
       "      <th>1</th>\n",
       "      <td>1</td>\n",
       "      <td>144.826101</td>\n",
       "      <td>31.274185</td>\n",
       "      <td>24.77759</td>\n",
       "      <td>22.83188</td>\n",
       "      <td>22.58444</td>\n",
       "      <td>21.16812</td>\n",
       "      <td>21.61427</td>\n",
       "      <td>4518</td>\n",
       "      <td>301</td>\n",
       "      <td>5</td>\n",
       "      <td>119</td>\n",
       "      <td>1.176014e+19</td>\n",
       "      <td>GALAXY</td>\n",
       "      <td>0.779136</td>\n",
       "      <td>10445</td>\n",
       "      <td>58158</td>\n",
       "      <td>427</td>\n",
       "    </tr>\n",
       "    <tr>\n",
       "      <th>2</th>\n",
       "      <td>2</td>\n",
       "      <td>142.188790</td>\n",
       "      <td>35.582444</td>\n",
       "      <td>25.26307</td>\n",
       "      <td>22.66389</td>\n",
       "      <td>20.60976</td>\n",
       "      <td>19.34857</td>\n",
       "      <td>18.94827</td>\n",
       "      <td>3606</td>\n",
       "      <td>301</td>\n",
       "      <td>2</td>\n",
       "      <td>120</td>\n",
       "      <td>5.152200e+18</td>\n",
       "      <td>GALAXY</td>\n",
       "      <td>0.644195</td>\n",
       "      <td>4576</td>\n",
       "      <td>55592</td>\n",
       "      <td>299</td>\n",
       "    </tr>\n",
       "    <tr>\n",
       "      <th>3</th>\n",
       "      <td>3</td>\n",
       "      <td>338.741038</td>\n",
       "      <td>-0.402828</td>\n",
       "      <td>22.13682</td>\n",
       "      <td>23.77656</td>\n",
       "      <td>21.61162</td>\n",
       "      <td>20.50454</td>\n",
       "      <td>19.25010</td>\n",
       "      <td>4192</td>\n",
       "      <td>301</td>\n",
       "      <td>3</td>\n",
       "      <td>214</td>\n",
       "      <td>1.030107e+19</td>\n",
       "      <td>GALAXY</td>\n",
       "      <td>0.932346</td>\n",
       "      <td>9149</td>\n",
       "      <td>58039</td>\n",
       "      <td>775</td>\n",
       "    </tr>\n",
       "    <tr>\n",
       "      <th>4</th>\n",
       "      <td>4</td>\n",
       "      <td>345.282593</td>\n",
       "      <td>21.183866</td>\n",
       "      <td>19.43718</td>\n",
       "      <td>17.58028</td>\n",
       "      <td>16.49747</td>\n",
       "      <td>15.97711</td>\n",
       "      <td>15.54461</td>\n",
       "      <td>8102</td>\n",
       "      <td>301</td>\n",
       "      <td>3</td>\n",
       "      <td>137</td>\n",
       "      <td>6.891865e+18</td>\n",
       "      <td>GALAXY</td>\n",
       "      <td>0.116123</td>\n",
       "      <td>6121</td>\n",
       "      <td>56187</td>\n",
       "      <td>842</td>\n",
       "    </tr>\n",
       "    <tr>\n",
       "      <th>...</th>\n",
       "      <td>...</td>\n",
       "      <td>...</td>\n",
       "      <td>...</td>\n",
       "      <td>...</td>\n",
       "      <td>...</td>\n",
       "      <td>...</td>\n",
       "      <td>...</td>\n",
       "      <td>...</td>\n",
       "      <td>...</td>\n",
       "      <td>...</td>\n",
       "      <td>...</td>\n",
       "      <td>...</td>\n",
       "      <td>...</td>\n",
       "      <td>...</td>\n",
       "      <td>...</td>\n",
       "      <td>...</td>\n",
       "      <td>...</td>\n",
       "      <td>...</td>\n",
       "    </tr>\n",
       "    <tr>\n",
       "      <th>99995</th>\n",
       "      <td>99994</td>\n",
       "      <td>39.620709</td>\n",
       "      <td>-2.594074</td>\n",
       "      <td>22.16759</td>\n",
       "      <td>22.97586</td>\n",
       "      <td>21.90404</td>\n",
       "      <td>21.30548</td>\n",
       "      <td>20.73569</td>\n",
       "      <td>7778</td>\n",
       "      <td>301</td>\n",
       "      <td>2</td>\n",
       "      <td>581</td>\n",
       "      <td>1.055431e+19</td>\n",
       "      <td>GALAXY</td>\n",
       "      <td>0.000000</td>\n",
       "      <td>9374</td>\n",
       "      <td>57749</td>\n",
       "      <td>438</td>\n",
       "    </tr>\n",
       "    <tr>\n",
       "      <th>99996</th>\n",
       "      <td>99995</td>\n",
       "      <td>29.493819</td>\n",
       "      <td>19.798874</td>\n",
       "      <td>22.69118</td>\n",
       "      <td>22.38628</td>\n",
       "      <td>20.45003</td>\n",
       "      <td>19.75759</td>\n",
       "      <td>19.41526</td>\n",
       "      <td>7917</td>\n",
       "      <td>301</td>\n",
       "      <td>1</td>\n",
       "      <td>289</td>\n",
       "      <td>8.586351e+18</td>\n",
       "      <td>GALAXY</td>\n",
       "      <td>0.404895</td>\n",
       "      <td>7626</td>\n",
       "      <td>56934</td>\n",
       "      <td>866</td>\n",
       "    </tr>\n",
       "    <tr>\n",
       "      <th>99997</th>\n",
       "      <td>99996</td>\n",
       "      <td>224.587407</td>\n",
       "      <td>15.700707</td>\n",
       "      <td>21.16916</td>\n",
       "      <td>19.26997</td>\n",
       "      <td>18.20428</td>\n",
       "      <td>17.69034</td>\n",
       "      <td>17.35221</td>\n",
       "      <td>5314</td>\n",
       "      <td>301</td>\n",
       "      <td>4</td>\n",
       "      <td>308</td>\n",
       "      <td>3.112008e+18</td>\n",
       "      <td>GALAXY</td>\n",
       "      <td>0.143366</td>\n",
       "      <td>2764</td>\n",
       "      <td>54535</td>\n",
       "      <td>74</td>\n",
       "    </tr>\n",
       "    <tr>\n",
       "      <th>99998</th>\n",
       "      <td>99997</td>\n",
       "      <td>212.268621</td>\n",
       "      <td>46.660365</td>\n",
       "      <td>25.35039</td>\n",
       "      <td>21.63757</td>\n",
       "      <td>19.91386</td>\n",
       "      <td>19.07254</td>\n",
       "      <td>18.62482</td>\n",
       "      <td>3650</td>\n",
       "      <td>301</td>\n",
       "      <td>4</td>\n",
       "      <td>131</td>\n",
       "      <td>7.601080e+18</td>\n",
       "      <td>GALAXY</td>\n",
       "      <td>0.455040</td>\n",
       "      <td>6751</td>\n",
       "      <td>56368</td>\n",
       "      <td>470</td>\n",
       "    </tr>\n",
       "    <tr>\n",
       "      <th>99999</th>\n",
       "      <td>99998</td>\n",
       "      <td>196.896053</td>\n",
       "      <td>49.464643</td>\n",
       "      <td>22.62171</td>\n",
       "      <td>21.79745</td>\n",
       "      <td>20.60115</td>\n",
       "      <td>20.00959</td>\n",
       "      <td>19.28075</td>\n",
       "      <td>3650</td>\n",
       "      <td>301</td>\n",
       "      <td>4</td>\n",
       "      <td>60</td>\n",
       "      <td>8.343152e+18</td>\n",
       "      <td>GALAXY</td>\n",
       "      <td>0.542944</td>\n",
       "      <td>7410</td>\n",
       "      <td>57104</td>\n",
       "      <td>851</td>\n",
       "    </tr>\n",
       "  </tbody>\n",
       "</table>\n",
       "<p>99999 rows × 18 columns</p>\n",
       "</div>"
      ],
      "text/plain": [
       "       obj_ID       alpha      delta         u         g         r         i  \\\n",
       "0           0  135.689107  32.494632  23.87882  22.27530  20.39501  19.16573   \n",
       "1           1  144.826101  31.274185  24.77759  22.83188  22.58444  21.16812   \n",
       "2           2  142.188790  35.582444  25.26307  22.66389  20.60976  19.34857   \n",
       "3           3  338.741038  -0.402828  22.13682  23.77656  21.61162  20.50454   \n",
       "4           4  345.282593  21.183866  19.43718  17.58028  16.49747  15.97711   \n",
       "...       ...         ...        ...       ...       ...       ...       ...   \n",
       "99995   99994   39.620709  -2.594074  22.16759  22.97586  21.90404  21.30548   \n",
       "99996   99995   29.493819  19.798874  22.69118  22.38628  20.45003  19.75759   \n",
       "99997   99996  224.587407  15.700707  21.16916  19.26997  18.20428  17.69034   \n",
       "99998   99997  212.268621  46.660365  25.35039  21.63757  19.91386  19.07254   \n",
       "99999   99998  196.896053  49.464643  22.62171  21.79745  20.60115  20.00959   \n",
       "\n",
       "              z  run_ID  rerun_ID  cam_col  field_ID   spec_obj_ID   class  \\\n",
       "0      18.79371    3606       301        2        79  6.543777e+18  GALAXY   \n",
       "1      21.61427    4518       301        5       119  1.176014e+19  GALAXY   \n",
       "2      18.94827    3606       301        2       120  5.152200e+18  GALAXY   \n",
       "3      19.25010    4192       301        3       214  1.030107e+19  GALAXY   \n",
       "4      15.54461    8102       301        3       137  6.891865e+18  GALAXY   \n",
       "...         ...     ...       ...      ...       ...           ...     ...   \n",
       "99995  20.73569    7778       301        2       581  1.055431e+19  GALAXY   \n",
       "99996  19.41526    7917       301        1       289  8.586351e+18  GALAXY   \n",
       "99997  17.35221    5314       301        4       308  3.112008e+18  GALAXY   \n",
       "99998  18.62482    3650       301        4       131  7.601080e+18  GALAXY   \n",
       "99999  19.28075    3650       301        4        60  8.343152e+18  GALAXY   \n",
       "\n",
       "       redshift  plate    MJD  fiber_ID  \n",
       "0      0.634794   5812  56354       171  \n",
       "1      0.779136  10445  58158       427  \n",
       "2      0.644195   4576  55592       299  \n",
       "3      0.932346   9149  58039       775  \n",
       "4      0.116123   6121  56187       842  \n",
       "...         ...    ...    ...       ...  \n",
       "99995  0.000000   9374  57749       438  \n",
       "99996  0.404895   7626  56934       866  \n",
       "99997  0.143366   2764  54535        74  \n",
       "99998  0.455040   6751  56368       470  \n",
       "99999  0.542944   7410  57104       851  \n",
       "\n",
       "[99999 rows x 18 columns]"
      ]
     },
     "execution_count": 12,
     "metadata": {},
     "output_type": "execute_result"
    }
   ],
   "source": [
    "stars = stars.drop(['obj_ID'], axis=1)\n",
    "stars['obj_ID'] = np.arange(len(stars))\n",
    "stars.insert(0, 'obj_ID', stars.pop('obj_ID'))\n",
    "stars"
   ]
  },
  {
   "cell_type": "markdown",
   "id": "ca72200f-a4f2-4470-9235-ae92153b6aa7",
   "metadata": {},
   "source": [
    "## Normalization"
   ]
  },
  {
   "cell_type": "markdown",
   "id": "7cc743d3-8d07-4a35-a067-e5d21b3c6054",
   "metadata": {},
   "source": [
    "Normalization is performed for the previously-specified columns in order to equally weight-in each of the features for the model training and evaluation. The robust scaler will be applied as normalization technique to account for the massive outliers for some features such as `alpha`, `delta`, `u`, `g,` and `z`.\n",
    "\n",
    "In order to begin the normalization process, the original dataset is split into training and test dataset."
   ]
  },
  {
   "cell_type": "code",
   "execution_count": 13,
   "id": "40f96024-5110-4e21-b04e-3a6426b0acf3",
   "metadata": {},
   "outputs": [],
   "source": [
    "stars_train = stars.sample(frac=0.7,random_state=seed_num)\n",
    "stars_test = stars.drop(stars_train.index)"
   ]
  },
  {
   "cell_type": "code",
   "execution_count": 14,
   "id": "857bf0b5-7511-416b-a93c-6d83d1708bb6",
   "metadata": {
    "tags": []
   },
   "outputs": [
    {
     "name": "stdout",
     "output_type": "stream",
     "text": [
      "(69999, 18)\n",
      "(30000, 18)\n"
     ]
    }
   ],
   "source": [
    "print(stars_train.shape)\n",
    "print(stars_test.shape)"
   ]
  },
  {
   "cell_type": "code",
   "execution_count": 22,
   "id": "421e9510-dbc1-412a-9129-5c8626578740",
   "metadata": {},
   "outputs": [
    {
     "data": {
      "text/html": [
       "<div>\n",
       "<style scoped>\n",
       "    .dataframe tbody tr th:only-of-type {\n",
       "        vertical-align: middle;\n",
       "    }\n",
       "\n",
       "    .dataframe tbody tr th {\n",
       "        vertical-align: top;\n",
       "    }\n",
       "\n",
       "    .dataframe thead th {\n",
       "        text-align: right;\n",
       "    }\n",
       "</style>\n",
       "<table border=\"1\" class=\"dataframe\">\n",
       "  <thead>\n",
       "    <tr style=\"text-align: right;\">\n",
       "      <th></th>\n",
       "      <th>obj_ID</th>\n",
       "      <th>alpha</th>\n",
       "      <th>delta</th>\n",
       "      <th>u</th>\n",
       "      <th>g</th>\n",
       "      <th>r</th>\n",
       "      <th>i</th>\n",
       "      <th>z</th>\n",
       "      <th>run_ID</th>\n",
       "      <th>rerun_ID</th>\n",
       "      <th>cam_col</th>\n",
       "      <th>field_ID</th>\n",
       "      <th>spec_obj_ID</th>\n",
       "      <th>class</th>\n",
       "      <th>redshift</th>\n",
       "      <th>plate</th>\n",
       "      <th>MJD</th>\n",
       "      <th>fiber_ID</th>\n",
       "    </tr>\n",
       "  </thead>\n",
       "  <tbody>\n",
       "    <tr>\n",
       "      <th>76074</th>\n",
       "      <td>76074</td>\n",
       "      <td>1.600838</td>\n",
       "      <td>-0.653444</td>\n",
       "      <td>0.201696</td>\n",
       "      <td>0.162024</td>\n",
       "      <td>-0.023905</td>\n",
       "      <td>-0.245544</td>\n",
       "      <td>-0.378337</td>\n",
       "      <td>4188</td>\n",
       "      <td>301</td>\n",
       "      <td>5</td>\n",
       "      <td>49</td>\n",
       "      <td>1.232976e+18</td>\n",
       "      <td>STAR</td>\n",
       "      <td>-0.651146</td>\n",
       "      <td>1095</td>\n",
       "      <td>52521</td>\n",
       "      <td>420</td>\n",
       "    </tr>\n",
       "    <tr>\n",
       "      <th>59701</th>\n",
       "      <td>59701</td>\n",
       "      <td>-0.064724</td>\n",
       "      <td>-0.726566</td>\n",
       "      <td>0.034128</td>\n",
       "      <td>0.344053</td>\n",
       "      <td>0.360867</td>\n",
       "      <td>0.334026</td>\n",
       "      <td>0.458230</td>\n",
       "      <td>1140</td>\n",
       "      <td>301</td>\n",
       "      <td>5</td>\n",
       "      <td>140</td>\n",
       "      <td>4.266309e+18</td>\n",
       "      <td>GALAXY</td>\n",
       "      <td>0.269980</td>\n",
       "      <td>3789</td>\n",
       "      <td>55269</td>\n",
       "      <td>999</td>\n",
       "    </tr>\n",
       "    <tr>\n",
       "      <th>73664</th>\n",
       "      <td>73664</td>\n",
       "      <td>-1.528443</td>\n",
       "      <td>-0.960207</td>\n",
       "      <td>-0.911844</td>\n",
       "      <td>-1.141082</td>\n",
       "      <td>-1.132471</td>\n",
       "      <td>-1.071363</td>\n",
       "      <td>-1.058618</td>\n",
       "      <td>1740</td>\n",
       "      <td>301</td>\n",
       "      <td>3</td>\n",
       "      <td>142</td>\n",
       "      <td>3.224632e+18</td>\n",
       "      <td>STAR</td>\n",
       "      <td>-0.651942</td>\n",
       "      <td>2864</td>\n",
       "      <td>54467</td>\n",
       "      <td>197</td>\n",
       "    </tr>\n",
       "    <tr>\n",
       "      <th>7228</th>\n",
       "      <td>7228</td>\n",
       "      <td>-0.191236</td>\n",
       "      <td>-0.123871</td>\n",
       "      <td>-0.711827</td>\n",
       "      <td>-1.017740</td>\n",
       "      <td>-1.127491</td>\n",
       "      <td>-1.145352</td>\n",
       "      <td>-1.239132</td>\n",
       "      <td>5313</td>\n",
       "      <td>301</td>\n",
       "      <td>6</td>\n",
       "      <td>12</td>\n",
       "      <td>2.791195e+18</td>\n",
       "      <td>GALAXY</td>\n",
       "      <td>-0.453333</td>\n",
       "      <td>2479</td>\n",
       "      <td>54174</td>\n",
       "      <td>324</td>\n",
       "    </tr>\n",
       "    <tr>\n",
       "      <th>34292</th>\n",
       "      <td>34292</td>\n",
       "      <td>1.533221</td>\n",
       "      <td>-0.586932</td>\n",
       "      <td>-0.203909</td>\n",
       "      <td>0.160651</td>\n",
       "      <td>0.553611</td>\n",
       "      <td>0.640247</td>\n",
       "      <td>0.931627</td>\n",
       "      <td>7712</td>\n",
       "      <td>301</td>\n",
       "      <td>5</td>\n",
       "      <td>221</td>\n",
       "      <td>1.273059e+19</td>\n",
       "      <td>QSO</td>\n",
       "      <td>2.189334</td>\n",
       "      <td>11307</td>\n",
       "      <td>58430</td>\n",
       "      <td>152</td>\n",
       "    </tr>\n",
       "  </tbody>\n",
       "</table>\n",
       "</div>"
      ],
      "text/plain": [
       "       obj_ID     alpha     delta         u         g         r         i  \\\n",
       "76074   76074  1.600838 -0.653444  0.201696  0.162024 -0.023905 -0.245544   \n",
       "59701   59701 -0.064724 -0.726566  0.034128  0.344053  0.360867  0.334026   \n",
       "73664   73664 -1.528443 -0.960207 -0.911844 -1.141082 -1.132471 -1.071363   \n",
       "7228     7228 -0.191236 -0.123871 -0.711827 -1.017740 -1.127491 -1.145352   \n",
       "34292   34292  1.533221 -0.586932 -0.203909  0.160651  0.553611  0.640247   \n",
       "\n",
       "              z  run_ID  rerun_ID  cam_col  field_ID   spec_obj_ID   class  \\\n",
       "76074 -0.378337    4188       301        5        49  1.232976e+18    STAR   \n",
       "59701  0.458230    1140       301        5       140  4.266309e+18  GALAXY   \n",
       "73664 -1.058618    1740       301        3       142  3.224632e+18    STAR   \n",
       "7228  -1.239132    5313       301        6        12  2.791195e+18  GALAXY   \n",
       "34292  0.931627    7712       301        5       221  1.273059e+19     QSO   \n",
       "\n",
       "       redshift  plate    MJD  fiber_ID  \n",
       "76074 -0.651146   1095  52521       420  \n",
       "59701  0.269980   3789  55269       999  \n",
       "73664 -0.651942   2864  54467       197  \n",
       "7228  -0.453333   2479  54174       324  \n",
       "34292  2.189334  11307  58430       152  "
      ]
     },
     "execution_count": 22,
     "metadata": {},
     "output_type": "execute_result"
    }
   ],
   "source": [
    "scaler = RobustScaler().fit(stars_train[columns_to_clean])\n",
    "stars_train[columns_to_clean] = scaler.transform(stars_train[columns_to_clean])\n",
    "stars_train.head()"
   ]
  },
  {
   "cell_type": "code",
   "execution_count": 16,
   "id": "1e0784af-5f29-45a8-b391-e82ffde052e8",
   "metadata": {},
   "outputs": [
    {
     "data": {
      "text/html": [
       "<div>\n",
       "<style scoped>\n",
       "    .dataframe tbody tr th:only-of-type {\n",
       "        vertical-align: middle;\n",
       "    }\n",
       "\n",
       "    .dataframe tbody tr th {\n",
       "        vertical-align: top;\n",
       "    }\n",
       "\n",
       "    .dataframe thead th {\n",
       "        text-align: right;\n",
       "    }\n",
       "</style>\n",
       "<table border=\"1\" class=\"dataframe\">\n",
       "  <thead>\n",
       "    <tr style=\"text-align: right;\">\n",
       "      <th></th>\n",
       "      <th>obj_ID</th>\n",
       "      <th>alpha</th>\n",
       "      <th>delta</th>\n",
       "      <th>u</th>\n",
       "      <th>g</th>\n",
       "      <th>r</th>\n",
       "      <th>i</th>\n",
       "      <th>z</th>\n",
       "      <th>run_ID</th>\n",
       "      <th>rerun_ID</th>\n",
       "      <th>cam_col</th>\n",
       "      <th>field_ID</th>\n",
       "      <th>spec_obj_ID</th>\n",
       "      <th>class</th>\n",
       "      <th>redshift</th>\n",
       "      <th>plate</th>\n",
       "      <th>MJD</th>\n",
       "      <th>fiber_ID</th>\n",
       "    </tr>\n",
       "  </thead>\n",
       "  <tbody>\n",
       "    <tr>\n",
       "      <th>1</th>\n",
       "      <td>1</td>\n",
       "      <td>-0.342674</td>\n",
       "      <td>0.218320</td>\n",
       "      <td>0.781088</td>\n",
       "      <td>0.547752</td>\n",
       "      <td>0.847730</td>\n",
       "      <td>0.659242</td>\n",
       "      <td>1.057130</td>\n",
       "      <td>4518</td>\n",
       "      <td>301</td>\n",
       "      <td>5</td>\n",
       "      <td>119</td>\n",
       "      <td>1.176014e+19</td>\n",
       "      <td>GALAXY</td>\n",
       "      <td>0.542278</td>\n",
       "      <td>10445</td>\n",
       "      <td>58158</td>\n",
       "      <td>427</td>\n",
       "    </tr>\n",
       "    <tr>\n",
       "      <th>4</th>\n",
       "      <td>4</td>\n",
       "      <td>1.541169</td>\n",
       "      <td>-0.074511</td>\n",
       "      <td>-0.819874</td>\n",
       "      <td>-1.109232</td>\n",
       "      <td>-1.255119</td>\n",
       "      <td>-1.287096</td>\n",
       "      <td>-1.406721</td>\n",
       "      <td>8102</td>\n",
       "      <td>301</td>\n",
       "      <td>3</td>\n",
       "      <td>137</td>\n",
       "      <td>6.891865e+18</td>\n",
       "      <td>GALAXY</td>\n",
       "      <td>-0.477430</td>\n",
       "      <td>6121</td>\n",
       "      <td>56187</td>\n",
       "      <td>842</td>\n",
       "    </tr>\n",
       "    <tr>\n",
       "      <th>10</th>\n",
       "      <td>10</td>\n",
       "      <td>1.379617</td>\n",
       "      <td>-0.160517</td>\n",
       "      <td>1.079084</td>\n",
       "      <td>0.449480</td>\n",
       "      <td>0.175589</td>\n",
       "      <td>0.139040</td>\n",
       "      <td>0.019324</td>\n",
       "      <td>8102</td>\n",
       "      <td>301</td>\n",
       "      <td>3</td>\n",
       "      <td>27</td>\n",
       "      <td>5.652162e+18</td>\n",
       "      <td>GALAXY</td>\n",
       "      <td>0.050829</td>\n",
       "      <td>5020</td>\n",
       "      <td>55852</td>\n",
       "      <td>525</td>\n",
       "    </tr>\n",
       "    <tr>\n",
       "      <th>13</th>\n",
       "      <td>13</td>\n",
       "      <td>1.411663</td>\n",
       "      <td>-0.398040</td>\n",
       "      <td>-0.402511</td>\n",
       "      <td>-0.739875</td>\n",
       "      <td>-0.904915</td>\n",
       "      <td>-0.897455</td>\n",
       "      <td>-0.967055</td>\n",
       "      <td>7773</td>\n",
       "      <td>301</td>\n",
       "      <td>2</td>\n",
       "      <td>123</td>\n",
       "      <td>5.702738e+18</td>\n",
       "      <td>GALAXY</td>\n",
       "      <td>-0.421953</td>\n",
       "      <td>5065</td>\n",
       "      <td>55739</td>\n",
       "      <td>200</td>\n",
       "    </tr>\n",
       "    <tr>\n",
       "      <th>17</th>\n",
       "      <td>17</td>\n",
       "      <td>-1.689672</td>\n",
       "      <td>-0.593760</td>\n",
       "      <td>-0.535548</td>\n",
       "      <td>-0.217933</td>\n",
       "      <td>0.058517</td>\n",
       "      <td>0.243451</td>\n",
       "      <td>0.357378</td>\n",
       "      <td>7712</td>\n",
       "      <td>301</td>\n",
       "      <td>5</td>\n",
       "      <td>339</td>\n",
       "      <td>9.843824e+18</td>\n",
       "      <td>QSO</td>\n",
       "      <td>2.468444</td>\n",
       "      <td>8743</td>\n",
       "      <td>57663</td>\n",
       "      <td>295</td>\n",
       "    </tr>\n",
       "    <tr>\n",
       "      <th>...</th>\n",
       "      <td>...</td>\n",
       "      <td>...</td>\n",
       "      <td>...</td>\n",
       "      <td>...</td>\n",
       "      <td>...</td>\n",
       "      <td>...</td>\n",
       "      <td>...</td>\n",
       "      <td>...</td>\n",
       "      <td>...</td>\n",
       "      <td>...</td>\n",
       "      <td>...</td>\n",
       "      <td>...</td>\n",
       "      <td>...</td>\n",
       "      <td>...</td>\n",
       "      <td>...</td>\n",
       "      <td>...</td>\n",
       "      <td>...</td>\n",
       "      <td>...</td>\n",
       "    </tr>\n",
       "    <tr>\n",
       "      <th>99986</th>\n",
       "      <td>99985</td>\n",
       "      <td>-0.139592</td>\n",
       "      <td>-0.635071</td>\n",
       "      <td>-1.135794</td>\n",
       "      <td>-1.292294</td>\n",
       "      <td>-1.329111</td>\n",
       "      <td>-1.312514</td>\n",
       "      <td>-1.374575</td>\n",
       "      <td>1992</td>\n",
       "      <td>301</td>\n",
       "      <td>2</td>\n",
       "      <td>110</td>\n",
       "      <td>5.719751e+17</td>\n",
       "      <td>GALAXY</td>\n",
       "      <td>-0.509567</td>\n",
       "      <td>508</td>\n",
       "      <td>52366</td>\n",
       "      <td>65</td>\n",
       "    </tr>\n",
       "    <tr>\n",
       "      <th>99991</th>\n",
       "      <td>99990</td>\n",
       "      <td>-0.323202</td>\n",
       "      <td>0.118021</td>\n",
       "      <td>1.216193</td>\n",
       "      <td>0.237381</td>\n",
       "      <td>0.117737</td>\n",
       "      <td>0.071468</td>\n",
       "      <td>-0.025486</td>\n",
       "      <td>4569</td>\n",
       "      <td>301</td>\n",
       "      <td>1</td>\n",
       "      <td>234</td>\n",
       "      <td>6.523611e+18</td>\n",
       "      <td>GALAXY</td>\n",
       "      <td>0.189907</td>\n",
       "      <td>5794</td>\n",
       "      <td>56282</td>\n",
       "      <td>535</td>\n",
       "    </tr>\n",
       "    <tr>\n",
       "      <th>99993</th>\n",
       "      <td>99992</td>\n",
       "      <td>-1.696756</td>\n",
       "      <td>-0.955826</td>\n",
       "      <td>0.287685</td>\n",
       "      <td>0.659187</td>\n",
       "      <td>0.482951</td>\n",
       "      <td>0.322403</td>\n",
       "      <td>0.448058</td>\n",
       "      <td>1740</td>\n",
       "      <td>301</td>\n",
       "      <td>5</td>\n",
       "      <td>27</td>\n",
       "      <td>8.069569e+18</td>\n",
       "      <td>GALAXY</td>\n",
       "      <td>0.292969</td>\n",
       "      <td>7167</td>\n",
       "      <td>56604</td>\n",
       "      <td>889</td>\n",
       "    </tr>\n",
       "    <tr>\n",
       "      <th>99996</th>\n",
       "      <td>99995</td>\n",
       "      <td>-1.426540</td>\n",
       "      <td>-0.114705</td>\n",
       "      <td>0.155619</td>\n",
       "      <td>0.407156</td>\n",
       "      <td>0.110361</td>\n",
       "      <td>0.130372</td>\n",
       "      <td>0.164489</td>\n",
       "      <td>7917</td>\n",
       "      <td>301</td>\n",
       "      <td>1</td>\n",
       "      <td>289</td>\n",
       "      <td>8.586351e+18</td>\n",
       "      <td>GALAXY</td>\n",
       "      <td>-0.033301</td>\n",
       "      <td>7626</td>\n",
       "      <td>56934</td>\n",
       "      <td>866</td>\n",
       "    </tr>\n",
       "    <tr>\n",
       "      <th>99998</th>\n",
       "      <td>99997</td>\n",
       "      <td>0.291135</td>\n",
       "      <td>0.664844</td>\n",
       "      <td>0.952804</td>\n",
       "      <td>0.170923</td>\n",
       "      <td>-0.074868</td>\n",
       "      <td>-0.126484</td>\n",
       "      <td>-0.156374</td>\n",
       "      <td>3650</td>\n",
       "      <td>301</td>\n",
       "      <td>4</td>\n",
       "      <td>131</td>\n",
       "      <td>7.601080e+18</td>\n",
       "      <td>GALAXY</td>\n",
       "      <td>0.043821</td>\n",
       "      <td>6751</td>\n",
       "      <td>56368</td>\n",
       "      <td>470</td>\n",
       "    </tr>\n",
       "  </tbody>\n",
       "</table>\n",
       "<p>30000 rows × 18 columns</p>\n",
       "</div>"
      ],
      "text/plain": [
       "       obj_ID     alpha     delta         u         g         r         i  \\\n",
       "1           1 -0.342674  0.218320  0.781088  0.547752  0.847730  0.659242   \n",
       "4           4  1.541169 -0.074511 -0.819874 -1.109232 -1.255119 -1.287096   \n",
       "10         10  1.379617 -0.160517  1.079084  0.449480  0.175589  0.139040   \n",
       "13         13  1.411663 -0.398040 -0.402511 -0.739875 -0.904915 -0.897455   \n",
       "17         17 -1.689672 -0.593760 -0.535548 -0.217933  0.058517  0.243451   \n",
       "...       ...       ...       ...       ...       ...       ...       ...   \n",
       "99986   99985 -0.139592 -0.635071 -1.135794 -1.292294 -1.329111 -1.312514   \n",
       "99991   99990 -0.323202  0.118021  1.216193  0.237381  0.117737  0.071468   \n",
       "99993   99992 -1.696756 -0.955826  0.287685  0.659187  0.482951  0.322403   \n",
       "99996   99995 -1.426540 -0.114705  0.155619  0.407156  0.110361  0.130372   \n",
       "99998   99997  0.291135  0.664844  0.952804  0.170923 -0.074868 -0.126484   \n",
       "\n",
       "              z  run_ID  rerun_ID  cam_col  field_ID   spec_obj_ID   class  \\\n",
       "1      1.057130    4518       301        5       119  1.176014e+19  GALAXY   \n",
       "4     -1.406721    8102       301        3       137  6.891865e+18  GALAXY   \n",
       "10     0.019324    8102       301        3        27  5.652162e+18  GALAXY   \n",
       "13    -0.967055    7773       301        2       123  5.702738e+18  GALAXY   \n",
       "17     0.357378    7712       301        5       339  9.843824e+18     QSO   \n",
       "...         ...     ...       ...      ...       ...           ...     ...   \n",
       "99986 -1.374575    1992       301        2       110  5.719751e+17  GALAXY   \n",
       "99991 -0.025486    4569       301        1       234  6.523611e+18  GALAXY   \n",
       "99993  0.448058    1740       301        5        27  8.069569e+18  GALAXY   \n",
       "99996  0.164489    7917       301        1       289  8.586351e+18  GALAXY   \n",
       "99998 -0.156374    3650       301        4       131  7.601080e+18  GALAXY   \n",
       "\n",
       "       redshift  plate    MJD  fiber_ID  \n",
       "1      0.542278  10445  58158       427  \n",
       "4     -0.477430   6121  56187       842  \n",
       "10     0.050829   5020  55852       525  \n",
       "13    -0.421953   5065  55739       200  \n",
       "17     2.468444   8743  57663       295  \n",
       "...         ...    ...    ...       ...  \n",
       "99986 -0.509567    508  52366        65  \n",
       "99991  0.189907   5794  56282       535  \n",
       "99993  0.292969   7167  56604       889  \n",
       "99996 -0.033301   7626  56934       866  \n",
       "99998  0.043821   6751  56368       470  \n",
       "\n",
       "[30000 rows x 18 columns]"
      ]
     },
     "execution_count": 16,
     "metadata": {},
     "output_type": "execute_result"
    }
   ],
   "source": [
    "scaler = RobustScaler().fit(stars_test[columns_to_clean])\n",
    "stars_test[columns_to_clean] = scaler.transform(stars_test[columns_to_clean])\n",
    "stars_test.head()"
   ]
  },
  {
   "cell_type": "markdown",
   "id": "960e010a-987a-454a-8c23-575c99056702",
   "metadata": {},
   "source": [
    "## Selecting the relevant features\n",
    "\n",
    "To train the models, the group has selected the following features (subject to change): `u`, `g`, `r`, `i`, `z` and `redshift`. So, these features must be isolated, along with the `obj_ID` which we will use as the index, and the `class` column which we will use as the labels. The classes will also be transformed to numerical representations of the data:\n",
    "\n",
    "Galaxy: 0 | Star: 1 | QSO: 2\n",
    "\n",
    "Our resulting dataset looks like this:"
   ]
  },
  {
   "cell_type": "code",
   "execution_count": 17,
   "id": "07129cb4-a90a-4ceb-9301-ce66516fcddc",
   "metadata": {
    "tags": []
   },
   "outputs": [
    {
     "name": "stderr",
     "output_type": "stream",
     "text": [
      "C:\\Users\\HTMI\\AppData\\Local\\Temp\\ipykernel_16056\\3313585080.py:7: SettingWithCopyWarning: \n",
      "A value is trying to be set on a copy of a slice from a DataFrame.\n",
      "Try using .loc[row_indexer,col_indexer] = value instead\n",
      "\n",
      "See the caveats in the documentation: https://pandas.pydata.org/pandas-docs/stable/user_guide/indexing.html#returning-a-view-versus-a-copy\n",
      "  stars_df['class'] = stars_df['class'].map(labels)\n"
     ]
    },
    {
     "data": {
      "text/html": [
       "<div>\n",
       "<style scoped>\n",
       "    .dataframe tbody tr th:only-of-type {\n",
       "        vertical-align: middle;\n",
       "    }\n",
       "\n",
       "    .dataframe tbody tr th {\n",
       "        vertical-align: top;\n",
       "    }\n",
       "\n",
       "    .dataframe thead th {\n",
       "        text-align: right;\n",
       "    }\n",
       "</style>\n",
       "<table border=\"1\" class=\"dataframe\">\n",
       "  <thead>\n",
       "    <tr style=\"text-align: right;\">\n",
       "      <th></th>\n",
       "      <th>u</th>\n",
       "      <th>g</th>\n",
       "      <th>r</th>\n",
       "      <th>i</th>\n",
       "      <th>z</th>\n",
       "      <th>redshift</th>\n",
       "      <th>class</th>\n",
       "    </tr>\n",
       "    <tr>\n",
       "      <th>obj_ID</th>\n",
       "      <th></th>\n",
       "      <th></th>\n",
       "      <th></th>\n",
       "      <th></th>\n",
       "      <th></th>\n",
       "      <th></th>\n",
       "      <th></th>\n",
       "    </tr>\n",
       "  </thead>\n",
       "  <tbody>\n",
       "    <tr>\n",
       "      <th>0</th>\n",
       "      <td>23.87882</td>\n",
       "      <td>22.27530</td>\n",
       "      <td>20.39501</td>\n",
       "      <td>19.16573</td>\n",
       "      <td>18.79371</td>\n",
       "      <td>0.634794</td>\n",
       "      <td>0</td>\n",
       "    </tr>\n",
       "    <tr>\n",
       "      <th>1</th>\n",
       "      <td>24.77759</td>\n",
       "      <td>22.83188</td>\n",
       "      <td>22.58444</td>\n",
       "      <td>21.16812</td>\n",
       "      <td>21.61427</td>\n",
       "      <td>0.779136</td>\n",
       "      <td>0</td>\n",
       "    </tr>\n",
       "    <tr>\n",
       "      <th>2</th>\n",
       "      <td>25.26307</td>\n",
       "      <td>22.66389</td>\n",
       "      <td>20.60976</td>\n",
       "      <td>19.34857</td>\n",
       "      <td>18.94827</td>\n",
       "      <td>0.644195</td>\n",
       "      <td>0</td>\n",
       "    </tr>\n",
       "    <tr>\n",
       "      <th>3</th>\n",
       "      <td>22.13682</td>\n",
       "      <td>23.77656</td>\n",
       "      <td>21.61162</td>\n",
       "      <td>20.50454</td>\n",
       "      <td>19.25010</td>\n",
       "      <td>0.932346</td>\n",
       "      <td>0</td>\n",
       "    </tr>\n",
       "    <tr>\n",
       "      <th>4</th>\n",
       "      <td>19.43718</td>\n",
       "      <td>17.58028</td>\n",
       "      <td>16.49747</td>\n",
       "      <td>15.97711</td>\n",
       "      <td>15.54461</td>\n",
       "      <td>0.116123</td>\n",
       "      <td>0</td>\n",
       "    </tr>\n",
       "    <tr>\n",
       "      <th>...</th>\n",
       "      <td>...</td>\n",
       "      <td>...</td>\n",
       "      <td>...</td>\n",
       "      <td>...</td>\n",
       "      <td>...</td>\n",
       "      <td>...</td>\n",
       "      <td>...</td>\n",
       "    </tr>\n",
       "    <tr>\n",
       "      <th>99994</th>\n",
       "      <td>22.16759</td>\n",
       "      <td>22.97586</td>\n",
       "      <td>21.90404</td>\n",
       "      <td>21.30548</td>\n",
       "      <td>20.73569</td>\n",
       "      <td>0.000000</td>\n",
       "      <td>0</td>\n",
       "    </tr>\n",
       "    <tr>\n",
       "      <th>99995</th>\n",
       "      <td>22.69118</td>\n",
       "      <td>22.38628</td>\n",
       "      <td>20.45003</td>\n",
       "      <td>19.75759</td>\n",
       "      <td>19.41526</td>\n",
       "      <td>0.404895</td>\n",
       "      <td>0</td>\n",
       "    </tr>\n",
       "    <tr>\n",
       "      <th>99996</th>\n",
       "      <td>21.16916</td>\n",
       "      <td>19.26997</td>\n",
       "      <td>18.20428</td>\n",
       "      <td>17.69034</td>\n",
       "      <td>17.35221</td>\n",
       "      <td>0.143366</td>\n",
       "      <td>0</td>\n",
       "    </tr>\n",
       "    <tr>\n",
       "      <th>99997</th>\n",
       "      <td>25.35039</td>\n",
       "      <td>21.63757</td>\n",
       "      <td>19.91386</td>\n",
       "      <td>19.07254</td>\n",
       "      <td>18.62482</td>\n",
       "      <td>0.455040</td>\n",
       "      <td>0</td>\n",
       "    </tr>\n",
       "    <tr>\n",
       "      <th>99998</th>\n",
       "      <td>22.62171</td>\n",
       "      <td>21.79745</td>\n",
       "      <td>20.60115</td>\n",
       "      <td>20.00959</td>\n",
       "      <td>19.28075</td>\n",
       "      <td>0.542944</td>\n",
       "      <td>0</td>\n",
       "    </tr>\n",
       "  </tbody>\n",
       "</table>\n",
       "<p>99999 rows × 7 columns</p>\n",
       "</div>"
      ],
      "text/plain": [
       "               u         g         r         i         z  redshift  class\n",
       "obj_ID                                                                   \n",
       "0       23.87882  22.27530  20.39501  19.16573  18.79371  0.634794      0\n",
       "1       24.77759  22.83188  22.58444  21.16812  21.61427  0.779136      0\n",
       "2       25.26307  22.66389  20.60976  19.34857  18.94827  0.644195      0\n",
       "3       22.13682  23.77656  21.61162  20.50454  19.25010  0.932346      0\n",
       "4       19.43718  17.58028  16.49747  15.97711  15.54461  0.116123      0\n",
       "...          ...       ...       ...       ...       ...       ...    ...\n",
       "99994   22.16759  22.97586  21.90404  21.30548  20.73569  0.000000      0\n",
       "99995   22.69118  22.38628  20.45003  19.75759  19.41526  0.404895      0\n",
       "99996   21.16916  19.26997  18.20428  17.69034  17.35221  0.143366      0\n",
       "99997   25.35039  21.63757  19.91386  19.07254  18.62482  0.455040      0\n",
       "99998   22.62171  21.79745  20.60115  20.00959  19.28075  0.542944      0\n",
       "\n",
       "[99999 rows x 7 columns]"
      ]
     },
     "execution_count": 17,
     "metadata": {},
     "output_type": "execute_result"
    }
   ],
   "source": [
    "columns_to_use = ['obj_ID', 'u', 'g', 'r', 'i', 'z', 'redshift', 'class']\n",
    "columns_data = ['u','g','r','i','z','redshift']\n",
    "\n",
    "labels = {'GALAXY':0,'STAR':1,'QSO':2}\n",
    "\n",
    "stars_df = stars[columns_to_use]\n",
    "stars_df['class'] = stars_df['class'].map(labels)\n",
    "\n",
    "stars_df.set_index('obj_ID')"
   ]
  },
  {
   "cell_type": "markdown",
   "id": "e36a60b3-1019-486a-9a02-e075c615cd3d",
   "metadata": {},
   "source": [
    "# Exploratory Data Analysis"
   ]
  },
  {
   "cell_type": "markdown",
   "id": "3b656dcf-5df8-44ff-a4f9-54b63332c5be",
   "metadata": {},
   "source": [
    "## Central Tendencies\n",
    "\n",
    "To gain a better understanding of the data, we can begin with examining the central tendencies of the data. These would be the mean, median and mode."
   ]
  },
  {
   "cell_type": "markdown",
   "id": "824f0aaf-d971-4263-9d20-f371880f7011",
   "metadata": {},
   "source": [
    "### Means\n",
    "\n",
    "For the means, we can take the means of each feature, pertaining to each class and compare them to one another. Putting the means together in a table, it would look like this:"
   ]
  },
  {
   "cell_type": "code",
   "execution_count": 18,
   "id": "0f136c20-b58b-44ba-9d1a-b438f2786896",
   "metadata": {
    "tags": []
   },
   "outputs": [
    {
     "data": {
      "text/html": [
       "<div>\n",
       "<style scoped>\n",
       "    .dataframe tbody tr th:only-of-type {\n",
       "        vertical-align: middle;\n",
       "    }\n",
       "\n",
       "    .dataframe tbody tr th {\n",
       "        vertical-align: top;\n",
       "    }\n",
       "\n",
       "    .dataframe thead th {\n",
       "        text-align: right;\n",
       "    }\n",
       "</style>\n",
       "<table border=\"1\" class=\"dataframe\">\n",
       "  <thead>\n",
       "    <tr style=\"text-align: right;\">\n",
       "      <th>class</th>\n",
       "      <th>0</th>\n",
       "      <th>1</th>\n",
       "      <th>2</th>\n",
       "    </tr>\n",
       "  </thead>\n",
       "  <tbody>\n",
       "    <tr>\n",
       "      <th>u</th>\n",
       "      <td>22.587379</td>\n",
       "      <td>21.153830</td>\n",
       "      <td>21.547619</td>\n",
       "    </tr>\n",
       "    <tr>\n",
       "      <th>g</th>\n",
       "      <td>20.906101</td>\n",
       "      <td>19.617142</td>\n",
       "      <td>20.926193</td>\n",
       "    </tr>\n",
       "    <tr>\n",
       "      <th>r</th>\n",
       "      <td>19.587552</td>\n",
       "      <td>18.947005</td>\n",
       "      <td>20.624089</td>\n",
       "    </tr>\n",
       "    <tr>\n",
       "      <th>i</th>\n",
       "      <td>18.851990</td>\n",
       "      <td>18.543760</td>\n",
       "      <td>20.431173</td>\n",
       "    </tr>\n",
       "    <tr>\n",
       "      <th>z</th>\n",
       "      <td>18.449156</td>\n",
       "      <td>18.334295</td>\n",
       "      <td>20.266732</td>\n",
       "    </tr>\n",
       "    <tr>\n",
       "      <th>redshift</th>\n",
       "      <td>0.421596</td>\n",
       "      <td>-0.000115</td>\n",
       "      <td>1.719676</td>\n",
       "    </tr>\n",
       "  </tbody>\n",
       "</table>\n",
       "</div>"
      ],
      "text/plain": [
       "class             0          1          2\n",
       "u         22.587379  21.153830  21.547619\n",
       "g         20.906101  19.617142  20.926193\n",
       "r         19.587552  18.947005  20.624089\n",
       "i         18.851990  18.543760  20.431173\n",
       "z         18.449156  18.334295  20.266732\n",
       "redshift   0.421596  -0.000115   1.719676"
      ]
     },
     "execution_count": 18,
     "metadata": {},
     "output_type": "execute_result"
    }
   ],
   "source": [
    "means_df = stars_df.groupby('class').mean()\n",
    "means_df = means_df[['u','g','r','i','z','redshift']].T\n",
    "\n",
    "means_df"
   ]
  },
  {
   "cell_type": "markdown",
   "id": "668f9a35-147c-49ca-b3f5-59e8f7ab2314",
   "metadata": {},
   "source": [
    "We can then graph it to a bar plot to make it easier to compare to one another. It would look like this:"
   ]
  },
  {
   "cell_type": "code",
   "execution_count": 19,
   "id": "8ce9bdf8-af0d-4caf-92f9-3eeace0b3f5b",
   "metadata": {
    "tags": []
   },
   "outputs": [
    {
     "data": {
      "text/plain": [
       "Text(0, 0.5, 'Mean Value')"
      ]
     },
     "execution_count": 19,
     "metadata": {},
     "output_type": "execute_result"
    }
   ],
   "source": [
    "import matplotlib.pyplot as plt\n",
    "\n",
    "means_df.plot.bar()\n",
    "plt.title(\"Bar graph comparing the means of each feature\")\n",
    "plt.xlabel(\"Feature Name\")\n",
    "plt.ylabel(\"Mean Value\")"
   ]
  },
  {
   "cell_type": "markdown",
   "id": "3df2ba4a-5bb1-4a32-aa69-037bfedd9be1",
   "metadata": {},
   "source": [
    "Analysis goes here, will add later\n"
   ]
  },
  {
   "cell_type": "code",
   "execution_count": 20,
   "id": "276abc7e-d7d2-4f8a-a860-3b9d10eea5e0",
   "metadata": {
    "tags": []
   },
   "outputs": [
    {
     "data": {
      "text/html": [
       "<div>\n",
       "<style scoped>\n",
       "    .dataframe tbody tr th:only-of-type {\n",
       "        vertical-align: middle;\n",
       "    }\n",
       "\n",
       "    .dataframe tbody tr th {\n",
       "        vertical-align: top;\n",
       "    }\n",
       "\n",
       "    .dataframe thead th {\n",
       "        text-align: right;\n",
       "    }\n",
       "</style>\n",
       "<table border=\"1\" class=\"dataframe\">\n",
       "  <thead>\n",
       "    <tr style=\"text-align: right;\">\n",
       "      <th>class</th>\n",
       "      <th>0</th>\n",
       "      <th>1</th>\n",
       "      <th>2</th>\n",
       "    </tr>\n",
       "    <tr>\n",
       "      <th>0</th>\n",
       "      <th></th>\n",
       "      <th></th>\n",
       "      <th></th>\n",
       "    </tr>\n",
       "  </thead>\n",
       "  <tbody>\n",
       "    <tr>\n",
       "      <th>u</th>\n",
       "      <td>24.63466</td>\n",
       "      <td>24.634650</td>\n",
       "      <td>24.634660</td>\n",
       "    </tr>\n",
       "    <tr>\n",
       "      <th>g</th>\n",
       "      <td>22.41741</td>\n",
       "      <td>25.114370</td>\n",
       "      <td>20.034210</td>\n",
       "    </tr>\n",
       "    <tr>\n",
       "      <th>r</th>\n",
       "      <td>20.72245</td>\n",
       "      <td>24.802030</td>\n",
       "      <td>19.617530</td>\n",
       "    </tr>\n",
       "    <tr>\n",
       "      <th>i</th>\n",
       "      <td>17.35948</td>\n",
       "      <td>24.361800</td>\n",
       "      <td>19.990370</td>\n",
       "    </tr>\n",
       "    <tr>\n",
       "      <th>z</th>\n",
       "      <td>22.82690</td>\n",
       "      <td>22.826900</td>\n",
       "      <td>22.826900</td>\n",
       "    </tr>\n",
       "    <tr>\n",
       "      <th>redshift</th>\n",
       "      <td>0.00000</td>\n",
       "      <td>0.004153</td>\n",
       "      <td>7.011245</td>\n",
       "    </tr>\n",
       "  </tbody>\n",
       "</table>\n",
       "</div>"
      ],
      "text/plain": [
       "class            0          1          2\n",
       "0                                       \n",
       "u         24.63466  24.634650  24.634660\n",
       "g         22.41741  25.114370  20.034210\n",
       "r         20.72245  24.802030  19.617530\n",
       "i         17.35948  24.361800  19.990370\n",
       "z         22.82690  22.826900  22.826900\n",
       "redshift   0.00000   0.004153   7.011245"
      ]
     },
     "execution_count": 20,
     "metadata": {},
     "output_type": "execute_result"
    }
   ],
   "source": [
    "mode_df = stars_df.groupby('class').apply(lambda x: x.mode().iloc[0])\n",
    "\n",
    "mode_df = mode_df[['u','g','r','i','z','redshift']].T\n",
    "\n",
    "mode_df"
   ]
  },
  {
   "cell_type": "code",
   "execution_count": null,
   "id": "fd559f69-6d9f-4f7e-bc21-4f09a188829e",
   "metadata": {},
   "outputs": [],
   "source": []
  },
  {
   "cell_type": "code",
   "execution_count": 21,
   "id": "561223b6-2992-4c19-8686-5139e11ff073",
   "metadata": {
    "tags": []
   },
   "outputs": [
    {
     "data": {
      "text/html": [
       "<div>\n",
       "<style scoped>\n",
       "    .dataframe tbody tr th:only-of-type {\n",
       "        vertical-align: middle;\n",
       "    }\n",
       "\n",
       "    .dataframe tbody tr th {\n",
       "        vertical-align: top;\n",
       "    }\n",
       "\n",
       "    .dataframe thead th {\n",
       "        text-align: right;\n",
       "    }\n",
       "</style>\n",
       "<table border=\"1\" class=\"dataframe\">\n",
       "  <thead>\n",
       "    <tr style=\"text-align: right;\">\n",
       "      <th>class</th>\n",
       "      <th>0</th>\n",
       "      <th>1</th>\n",
       "      <th>2</th>\n",
       "    </tr>\n",
       "  </thead>\n",
       "  <tbody>\n",
       "    <tr>\n",
       "      <th>u</th>\n",
       "      <td>22.841770</td>\n",
       "      <td>21.010650</td>\n",
       "      <td>21.503240</td>\n",
       "    </tr>\n",
       "    <tr>\n",
       "      <th>g</th>\n",
       "      <td>21.582200</td>\n",
       "      <td>19.542830</td>\n",
       "      <td>21.056290</td>\n",
       "    </tr>\n",
       "    <tr>\n",
       "      <th>r</th>\n",
       "      <td>20.104590</td>\n",
       "      <td>18.955130</td>\n",
       "      <td>20.772720</td>\n",
       "    </tr>\n",
       "    <tr>\n",
       "      <th>i</th>\n",
       "      <td>19.223660</td>\n",
       "      <td>18.592390</td>\n",
       "      <td>20.582110</td>\n",
       "    </tr>\n",
       "    <tr>\n",
       "      <th>z</th>\n",
       "      <td>18.766630</td>\n",
       "      <td>18.319230</td>\n",
       "      <td>20.373970</td>\n",
       "    </tr>\n",
       "    <tr>\n",
       "      <th>redshift</th>\n",
       "      <td>0.456274</td>\n",
       "      <td>-0.000076</td>\n",
       "      <td>1.617232</td>\n",
       "    </tr>\n",
       "  </tbody>\n",
       "</table>\n",
       "</div>"
      ],
      "text/plain": [
       "class             0          1          2\n",
       "u         22.841770  21.010650  21.503240\n",
       "g         21.582200  19.542830  21.056290\n",
       "r         20.104590  18.955130  20.772720\n",
       "i         19.223660  18.592390  20.582110\n",
       "z         18.766630  18.319230  20.373970\n",
       "redshift   0.456274  -0.000076   1.617232"
      ]
     },
     "execution_count": 21,
     "metadata": {},
     "output_type": "execute_result"
    }
   ],
   "source": [
    "median_df = stars_df.groupby('class').median()\n",
    "\n",
    "median_df = median_df[['u','g','r','i','z','redshift']].T\n",
    "\n",
    "median_df"
   ]
  }
 ],
 "metadata": {
  "kernelspec": {
   "display_name": "Python 3 (ipykernel)",
   "language": "python",
   "name": "python3"
  },
  "language_info": {
   "codemirror_mode": {
    "name": "ipython",
    "version": 3
   },
   "file_extension": ".py",
   "mimetype": "text/x-python",
   "name": "python",
   "nbconvert_exporter": "python",
   "pygments_lexer": "ipython3",
   "version": "3.9.18"
  }
 },
 "nbformat": 4,
 "nbformat_minor": 5
}
