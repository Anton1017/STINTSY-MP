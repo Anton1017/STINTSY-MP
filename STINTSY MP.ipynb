{
 "cells": [
  {
   "cell_type": "markdown",
   "id": "4d7fc418-3a2d-45b5-9add-f181cd2efa7e",
   "metadata": {
    "scrolled": true
   },
   "source": [
    "Group: I-Need-More-Boolets"
   ]
  },
  {
   "cell_type": "markdown",
   "id": "2a793946-036b-4b4d-b554-393a9900b269",
   "metadata": {},
   "source": [
    "Members: <br>\n",
    "Go, Ryan Jefferson <br>\n",
    "Ejercito, Joshua Carl <br>\n",
    "Moraña, Anton Louis <br>\n",
    "Nieva, Samuel "
   ]
  },
  {
   "cell_type": "markdown",
   "id": "6ed8ac24-7138-45ea-923f-f940f71c8027",
   "metadata": {},
   "source": [
    "Section: S11"
   ]
  },
  {
   "cell_type": "markdown",
   "id": "f8599513-976f-4f17-96d7-bf21b4c8a75a",
   "metadata": {},
   "source": [
    "# Introduction to the problem/task and dataset"
   ]
  },
  {
   "cell_type": "markdown",
   "id": "b39f4459-40bb-41a5-a479-a89bf003dae9",
   "metadata": {},
   "source": [
    "The groups has selected the stars dataset to create three classification models specifically (will put soon) will be used to for stellar classification. Stellar classification is the classification of stars based on their spectral \n",
    "characteristics The target of the each regression model is to predict the class of the entry. The class could be either be a quasar, star or galaxy>. "
   ]
  },
  {
   "cell_type": "markdown",
   "id": "9a4d3d97-7961-43c6-8e17-8f37c290fc2b",
   "metadata": {},
   "source": [
    "# Description of the dataset"
   ]
  },
  {
   "cell_type": "markdown",
   "id": "4aacce68-3066-4d02-b0e6-3e19764ba70b",
   "metadata": {},
   "source": [
    "The Stars datasets contains spectral characterstics that is then classified into either a quassar, star, or galaxy. The datasets is made up of 100,000 obersavations of space taken by the SDSS (Sloan Digital Sky Survey) with each observations having 18 features. \n",
    "\n",
    "\n"
   ]
  },
  {
   "cell_type": "code",
   "execution_count": null,
   "id": "bc76e38c-b56d-43ae-ae3b-9226c7d8ba13",
   "metadata": {},
   "outputs": [],
   "source": []
  }
 ],
 "metadata": {
  "kernelspec": {
   "display_name": "Python 3 (ipykernel)",
   "language": "python",
   "name": "python3"
  },
  "language_info": {
   "codemirror_mode": {
    "name": "ipython",
    "version": 3
   },
   "file_extension": ".py",
   "mimetype": "text/x-python",
   "name": "python",
   "nbconvert_exporter": "python",
   "pygments_lexer": "ipython3",
   "version": "3.10.0"
  }
 },
 "nbformat": 4,
 "nbformat_minor": 5
}
