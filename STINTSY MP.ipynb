{
 "cells": [
  {
   "cell_type": "markdown",
   "id": "4d7fc418-3a2d-45b5-9add-f181cd2efa7e",
   "metadata": {},
   "source": [
    "Group: I-Need-More-Boolets"
   ]
  },
  {
   "cell_type": "markdown",
   "id": "2a793946-036b-4b4d-b554-393a9900b269",
   "metadata": {},
   "source": [
    "Members: <br>\n",
    "Go, Ryan Jefferson <br>\n",
    "Ejercito, Joshua Carl <br>\n",
    "Moraña, Anton Louis <br>\n",
    "Nieva, Samuel "
   ]
  },
  {
   "cell_type": "markdown",
   "id": "6ed8ac24-7138-45ea-923f-f940f71c8027",
   "metadata": {},
   "source": [
    "Section: S11"
   ]
  },
  {
   "cell_type": "markdown",
   "id": "f8599513-976f-4f17-96d7-bf21b4c8a75a",
   "metadata": {},
   "source": [
    "# Introduction to the problem/task and dataset"
   ]
  },
  {
   "cell_type": "markdown",
   "id": "b39f4459-40bb-41a5-a479-a89bf003dae9",
   "metadata": {},
   "source": [
    "This major course output tasked our group to select a real-word dataset from the selection given. This group has selected the stars dataset, which is a dataset containing spectral characteristics derived from pictures taken by the SDSS (Sloan Digital Sky Survey). This dataset's main use is spectral classification, i.e., classifying whether a celestial body is a star, a quasar or an entire galaxy.\n",
    "\n",
    "Using the dataset, the group is to perform the following:\n",
    "- Describe the dataset\n",
    "- Perform Data Pre-processing and Cleaning\n",
    "- Perform Exploratory Data Analysis\n",
    "- Select 3 Machine Learning Models\n",
    "- Perform model training\n",
    "- Perform hyperparameter tuning\n",
    "- Extract insights from the data"
   ]
  },
  {
   "cell_type": "markdown",
   "id": "9a4d3d97-7961-43c6-8e17-8f37c290fc2b",
   "metadata": {},
   "source": [
    "# Description of the dataset"
   ]
  },
  {
   "cell_type": "markdown",
   "id": "4aacce68-3066-4d02-b0e6-3e19764ba70b",
   "metadata": {},
   "source": [
    "As stated earlier, the Stars datasets contains spectral characteristics from celestial bodies that can be used to classify it as either a quasar, star, or galaxy. This dataset is made up of 100,000 obersavations of space taken by the SDSS (Sloan Digital Sky Survey) with each observations having 18 features. The SDSS takes these observations through the use of a 2.5m wide located at Apache Point Observatory in New Mexico. The telescope is described in detail in a paper by Gunn et al. (2006), and it is through this powerful telescope that a robust astronomical survey is created, from which datasets such as this are derived.\n",
    "\n",
    "The following are the description of their features:\n",
    "1. obj_ID =  the unique value that identifies the object in the image catalog used by th CAS (Chinese Academy of Sciences).\n",
    "2. alpha = it contains the right ascension angle, it is measured from the start of a point which is called vernal equinox and go eastward. It is expressed in hours, minutes, and seconds. Vernal equinox is when the sun is exactly above the equator and day and night are of equal day. It is similar to the longitude in space.\n",
    "3. delta = it contains the declination angle, which shows the angle between the celestial equator and a point on the celestial sphere. It is like the latitude in space which results can either be positive or negative. Positive means that the object is located north while negative means it is located south.\n",
    "4. u – Ultraviolet filter in the photometric system.\n",
    "5. g – Green filter in the photometric system.\n",
    "6. r – Red filter in the photometric system.\n",
    "7. i – Near Infrared filter in the photometric system.\n",
    "8. z – Infrared filter in the photometric system.\n",
    "9. run_ID – Run Number used to identify the specific scan.\n",
    "10. rereun_ID – Rerun Number to specify how the image was processed.\n",
    "11. cam_col – Camera column to identify the scanline within the run.\n",
    "12. field_ID – Field number to identify each field.\n",
    "13. spec_obj_ID – Unique ID used for optical spectroscopic objects (this means that 2 different observations with the same spec_obj_ID must share the output class).\n",
    "14. class – object class (galaxy, star or quasar object). This is the label the group will be tasking the models to predict.\n",
    "15. redshift – redshift value based on the increase in wavelength.\n",
    "16. plate – plate ID, identifies each plate in SDSS (Sloan Digital Sky Survey).\n",
    "17. MJD – Modified Julian Date, used to indicate when a given piece of SDSS (Sloan Digital Sky Survey) data was taken.\n",
    "18. fiber_ID – identifies the fiber that pointed the light at the focal plane in each observation.\n",
    "\n",
    "The first few rows of the dataset look like this:"
   ]
  },
  {
   "cell_type": "code",
   "execution_count": 1,
   "id": "ee4601ef-f0a8-4d4a-aaac-84e8b3ef7d95",
   "metadata": {
    "tags": []
   },
   "outputs": [
    {
     "name": "stdout",
     "output_type": "stream",
     "text": [
      "stars dataset shape:  (100000, 18)\n"
     ]
    },
    {
     "data": {
      "text/html": [
       "<div>\n",
       "<style scoped>\n",
       "    .dataframe tbody tr th:only-of-type {\n",
       "        vertical-align: middle;\n",
       "    }\n",
       "\n",
       "    .dataframe tbody tr th {\n",
       "        vertical-align: top;\n",
       "    }\n",
       "\n",
       "    .dataframe thead th {\n",
       "        text-align: right;\n",
       "    }\n",
       "</style>\n",
       "<table border=\"1\" class=\"dataframe\">\n",
       "  <thead>\n",
       "    <tr style=\"text-align: right;\">\n",
       "      <th></th>\n",
       "      <th>obj_ID</th>\n",
       "      <th>alpha</th>\n",
       "      <th>delta</th>\n",
       "      <th>u</th>\n",
       "      <th>g</th>\n",
       "      <th>r</th>\n",
       "      <th>i</th>\n",
       "      <th>z</th>\n",
       "      <th>run_ID</th>\n",
       "      <th>rerun_ID</th>\n",
       "      <th>cam_col</th>\n",
       "      <th>field_ID</th>\n",
       "      <th>spec_obj_ID</th>\n",
       "      <th>class</th>\n",
       "      <th>redshift</th>\n",
       "      <th>plate</th>\n",
       "      <th>MJD</th>\n",
       "      <th>fiber_ID</th>\n",
       "    </tr>\n",
       "  </thead>\n",
       "  <tbody>\n",
       "    <tr>\n",
       "      <th>0</th>\n",
       "      <td>1.237661e+18</td>\n",
       "      <td>135.689107</td>\n",
       "      <td>32.494632</td>\n",
       "      <td>23.87882</td>\n",
       "      <td>22.27530</td>\n",
       "      <td>20.39501</td>\n",
       "      <td>19.16573</td>\n",
       "      <td>18.79371</td>\n",
       "      <td>3606</td>\n",
       "      <td>301</td>\n",
       "      <td>2</td>\n",
       "      <td>79</td>\n",
       "      <td>6.543777e+18</td>\n",
       "      <td>GALAXY</td>\n",
       "      <td>0.634794</td>\n",
       "      <td>5812</td>\n",
       "      <td>56354</td>\n",
       "      <td>171</td>\n",
       "    </tr>\n",
       "    <tr>\n",
       "      <th>1</th>\n",
       "      <td>1.237665e+18</td>\n",
       "      <td>144.826101</td>\n",
       "      <td>31.274185</td>\n",
       "      <td>24.77759</td>\n",
       "      <td>22.83188</td>\n",
       "      <td>22.58444</td>\n",
       "      <td>21.16812</td>\n",
       "      <td>21.61427</td>\n",
       "      <td>4518</td>\n",
       "      <td>301</td>\n",
       "      <td>5</td>\n",
       "      <td>119</td>\n",
       "      <td>1.176014e+19</td>\n",
       "      <td>GALAXY</td>\n",
       "      <td>0.779136</td>\n",
       "      <td>10445</td>\n",
       "      <td>58158</td>\n",
       "      <td>427</td>\n",
       "    </tr>\n",
       "    <tr>\n",
       "      <th>2</th>\n",
       "      <td>1.237661e+18</td>\n",
       "      <td>142.188790</td>\n",
       "      <td>35.582444</td>\n",
       "      <td>25.26307</td>\n",
       "      <td>22.66389</td>\n",
       "      <td>20.60976</td>\n",
       "      <td>19.34857</td>\n",
       "      <td>18.94827</td>\n",
       "      <td>3606</td>\n",
       "      <td>301</td>\n",
       "      <td>2</td>\n",
       "      <td>120</td>\n",
       "      <td>5.152200e+18</td>\n",
       "      <td>GALAXY</td>\n",
       "      <td>0.644195</td>\n",
       "      <td>4576</td>\n",
       "      <td>55592</td>\n",
       "      <td>299</td>\n",
       "    </tr>\n",
       "    <tr>\n",
       "      <th>3</th>\n",
       "      <td>1.237663e+18</td>\n",
       "      <td>338.741038</td>\n",
       "      <td>-0.402828</td>\n",
       "      <td>22.13682</td>\n",
       "      <td>23.77656</td>\n",
       "      <td>21.61162</td>\n",
       "      <td>20.50454</td>\n",
       "      <td>19.25010</td>\n",
       "      <td>4192</td>\n",
       "      <td>301</td>\n",
       "      <td>3</td>\n",
       "      <td>214</td>\n",
       "      <td>1.030107e+19</td>\n",
       "      <td>GALAXY</td>\n",
       "      <td>0.932346</td>\n",
       "      <td>9149</td>\n",
       "      <td>58039</td>\n",
       "      <td>775</td>\n",
       "    </tr>\n",
       "    <tr>\n",
       "      <th>4</th>\n",
       "      <td>1.237680e+18</td>\n",
       "      <td>345.282593</td>\n",
       "      <td>21.183866</td>\n",
       "      <td>19.43718</td>\n",
       "      <td>17.58028</td>\n",
       "      <td>16.49747</td>\n",
       "      <td>15.97711</td>\n",
       "      <td>15.54461</td>\n",
       "      <td>8102</td>\n",
       "      <td>301</td>\n",
       "      <td>3</td>\n",
       "      <td>137</td>\n",
       "      <td>6.891865e+18</td>\n",
       "      <td>GALAXY</td>\n",
       "      <td>0.116123</td>\n",
       "      <td>6121</td>\n",
       "      <td>56187</td>\n",
       "      <td>842</td>\n",
       "    </tr>\n",
       "  </tbody>\n",
       "</table>\n",
       "</div>"
      ],
      "text/plain": [
       "         obj_ID       alpha      delta         u         g         r  \\\n",
       "0  1.237661e+18  135.689107  32.494632  23.87882  22.27530  20.39501   \n",
       "1  1.237665e+18  144.826101  31.274185  24.77759  22.83188  22.58444   \n",
       "2  1.237661e+18  142.188790  35.582444  25.26307  22.66389  20.60976   \n",
       "3  1.237663e+18  338.741038  -0.402828  22.13682  23.77656  21.61162   \n",
       "4  1.237680e+18  345.282593  21.183866  19.43718  17.58028  16.49747   \n",
       "\n",
       "          i         z  run_ID  rerun_ID  cam_col  field_ID   spec_obj_ID  \\\n",
       "0  19.16573  18.79371    3606       301        2        79  6.543777e+18   \n",
       "1  21.16812  21.61427    4518       301        5       119  1.176014e+19   \n",
       "2  19.34857  18.94827    3606       301        2       120  5.152200e+18   \n",
       "3  20.50454  19.25010    4192       301        3       214  1.030107e+19   \n",
       "4  15.97711  15.54461    8102       301        3       137  6.891865e+18   \n",
       "\n",
       "    class  redshift  plate    MJD  fiber_ID  \n",
       "0  GALAXY  0.634794   5812  56354       171  \n",
       "1  GALAXY  0.779136  10445  58158       427  \n",
       "2  GALAXY  0.644195   4576  55592       299  \n",
       "3  GALAXY  0.932346   9149  58039       775  \n",
       "4  GALAXY  0.116123   6121  56187       842  "
      ]
     },
     "execution_count": 1,
     "metadata": {},
     "output_type": "execute_result"
    }
   ],
   "source": [
    "import pandas as pd\n",
    "stars = pd.read_csv('stars.csv')\n",
    "print(\"stars dataset shape: \", stars.shape)\n",
    "stars.head()"
   ]
  },
  {
   "cell_type": "markdown",
   "id": "42462967-688b-4032-901d-2f166a6a8ba7",
   "metadata": {},
   "source": [
    "The following shows the datatypes of each feature within the dataset:"
   ]
  },
  {
   "cell_type": "code",
   "execution_count": 2,
   "id": "1045fce1-9695-4cc7-8e53-1ead1e8ad4f3",
   "metadata": {
    "tags": []
   },
   "outputs": [
    {
     "name": "stdout",
     "output_type": "stream",
     "text": [
      "<class 'pandas.core.frame.DataFrame'>\n",
      "RangeIndex: 100000 entries, 0 to 99999\n",
      "Data columns (total 18 columns):\n",
      " #   Column       Non-Null Count   Dtype  \n",
      "---  ------       --------------   -----  \n",
      " 0   obj_ID       100000 non-null  float64\n",
      " 1   alpha        100000 non-null  float64\n",
      " 2   delta        100000 non-null  float64\n",
      " 3   u            100000 non-null  float64\n",
      " 4   g            100000 non-null  float64\n",
      " 5   r            100000 non-null  float64\n",
      " 6   i            100000 non-null  float64\n",
      " 7   z            100000 non-null  float64\n",
      " 8   run_ID       100000 non-null  int64  \n",
      " 9   rerun_ID     100000 non-null  int64  \n",
      " 10  cam_col      100000 non-null  int64  \n",
      " 11  field_ID     100000 non-null  int64  \n",
      " 12  spec_obj_ID  100000 non-null  float64\n",
      " 13  class        100000 non-null  object \n",
      " 14  redshift     100000 non-null  float64\n",
      " 15  plate        100000 non-null  int64  \n",
      " 16  MJD          100000 non-null  int64  \n",
      " 17  fiber_ID     100000 non-null  int64  \n",
      "dtypes: float64(10), int64(7), object(1)\n",
      "memory usage: 13.7+ MB\n"
     ]
    }
   ],
   "source": [
    "stars.info()"
   ]
  },
  {
   "cell_type": "markdown",
   "id": "9cd6bd83-55ea-4845-aca7-bcdcc4aaf78c",
   "metadata": {},
   "source": [
    "# List of requirements\n",
    "\n",
    "The group will be using Python's scikit learn library for their classification models (I think), numpy and pandas array for processing data, (add stuff if need pa)"
   ]
  },
  {
   "cell_type": "markdown",
   "id": "e4bcd160-54cd-4934-afb6-7a77af3fea69",
   "metadata": {
    "tags": []
   },
   "source": [
    "# Data Cleaning"
   ]
  },
  {
   "cell_type": "markdown",
   "id": "b6ba649a-ad32-496b-82f3-3867eecbb9e8",
   "metadata": {},
   "source": [
    "## Checking for empty observations"
   ]
  },
  {
   "cell_type": "markdown",
   "id": "11b6e9a3-3237-48b5-bc07-e624a44c6ce6",
   "metadata": {},
   "source": [
    "Checking was done for any entries with missing/null features by instantiating another stars dataset whose entries are filtered off of null features."
   ]
  },
  {
   "cell_type": "code",
   "execution_count": 3,
   "id": "4dacb600-1948-4e71-aeca-42b7bba51dd5",
   "metadata": {
    "tags": []
   },
   "outputs": [
    {
     "name": "stdout",
     "output_type": "stream",
     "text": [
      "stars dataset shape (no null):  (100000, 18)\n"
     ]
    }
   ],
   "source": [
    "nan_variables = stars[stars.isnull().any(axis=1)].index\n",
    "stars_nonull = stars.drop(labels=nan_variables).reset_index(drop=True)\n",
    "print(\"stars dataset shape (no null): \", stars_nonull.shape)"
   ]
  },
  {
   "cell_type": "markdown",
   "id": "43b7c843-0d10-476f-aa73-ca741a7c9249",
   "metadata": {},
   "source": [
    "As shown by the resulting filtered dataset and comparing its shape to the original dataset, it was shown that all entries have all their features accounted for."
   ]
  },
  {
   "cell_type": "markdown",
   "id": "2666107a-bea2-4c2d-9c94-75681dd1cfed",
   "metadata": {},
   "source": [
    "## Checking for duplicate entries"
   ]
  },
  {
   "cell_type": "markdown",
   "id": "d9188f66-83ed-455d-9aca-5be85832b4e9",
   "metadata": {},
   "source": [
    "Any duplicated entries was checked first by comparing all entries' columns to each other"
   ]
  },
  {
   "cell_type": "code",
   "execution_count": 4,
   "id": "0c650c61-d409-49af-94db-0278e6f6bbee",
   "metadata": {
    "tags": []
   },
   "outputs": [
    {
     "data": {
      "text/plain": [
       "False"
      ]
     },
     "execution_count": 4,
     "metadata": {},
     "output_type": "execute_result"
    }
   ],
   "source": [
    "stars.duplicated().any()"
   ]
  },
  {
   "cell_type": "markdown",
   "id": "05e1b8f8-6265-4f83-8be4-a0e65e1ef4ab",
   "metadata": {
    "tags": []
   },
   "source": [
    "As shown, there are no duplicated entries within the dataset."
   ]
  },
  {
   "cell_type": "code",
   "execution_count": null,
   "id": "1efc01d9-9548-4e52-9845-20eccc7bf5db",
   "metadata": {},
   "outputs": [],
   "source": []
  }
 ],
 "metadata": {
  "kernelspec": {
   "display_name": "Python 3 (ipykernel)",
   "language": "python",
   "name": "python3"
  },
  "language_info": {
   "codemirror_mode": {
    "name": "ipython",
    "version": 3
   },
   "file_extension": ".py",
   "mimetype": "text/x-python",
   "name": "python",
   "nbconvert_exporter": "python",
   "pygments_lexer": "ipython3",
   "version": "3.10.0"
  }
 },
 "nbformat": 4,
 "nbformat_minor": 5
}
