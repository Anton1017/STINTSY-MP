{
 "cells": [
  {
   "cell_type": "markdown",
   "id": "4d7fc418-3a2d-45b5-9add-f181cd2efa7e",
   "metadata": {
    "scrolled": true
   },
   "source": [
    "Group: I-Need-More-Boolets"
   ]
  },
  {
   "cell_type": "markdown",
   "id": "2a793946-036b-4b4d-b554-393a9900b269",
   "metadata": {},
   "source": [
    "Members: <br>\n",
    "Go, Ryan Jefferson <br>\n",
    "Ejercito, Joshua Carl <br>\n",
    "Moraña, Anton Louis <br>\n",
    "Nieva, Samuel "
   ]
  },
  {
   "cell_type": "markdown",
   "id": "6ed8ac24-7138-45ea-923f-f940f71c8027",
   "metadata": {},
   "source": [
    "Section: S11"
   ]
  },
  {
   "cell_type": "markdown",
   "id": "f8599513-976f-4f17-96d7-bf21b4c8a75a",
   "metadata": {},
   "source": [
    "# Introduction to the problem/task and dataset"
   ]
  },
  {
   "cell_type": "markdown",
   "id": "b39f4459-40bb-41a5-a479-a89bf003dae9",
   "metadata": {},
   "source": [
    "The Stars dataset is selected that consists of 100,000 obersavations of space taken by the SDSS (Sloan Digital Sky Survey). Each observations is described  by 18 features. With the 18 features, three models will be create to be trained and tested. Each models contain the goal of stellar classification. Stellar classification is the classification of stars based on their spectral \r\n",
    "characteristic. Each predictions can be classified by 3 classes: galaxy, star or quasar object. "
   ]
  },
  {
   "cell_type": "code",
   "execution_count": null,
   "id": "debcef22-1b51-45a3-a906-c27bdbc3e1de",
   "metadata": {},
   "outputs": [],
   "source": []
  }
 ],
 "metadata": {
  "kernelspec": {
   "display_name": "Python 3 (ipykernel)",
   "language": "python",
   "name": "python3"
  },
  "language_info": {
   "codemirror_mode": {
    "name": "ipython",
    "version": 3
   },
   "file_extension": ".py",
   "mimetype": "text/x-python",
   "name": "python",
   "nbconvert_exporter": "python",
   "pygments_lexer": "ipython3",
   "version": "3.10.0"
  }
 },
 "nbformat": 4,
 "nbformat_minor": 5
}
